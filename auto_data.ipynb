{
 "cells": [
  {
   "cell_type": "markdown",
   "id": "7352df28",
   "metadata": {},
   "source": [
    "# problem statement"
   ]
  },
  {
   "cell_type": "markdown",
   "id": "4e558e60",
   "metadata": {},
   "source": [
    "### - To predict the price of a vehicles"
   ]
  },
  {
   "cell_type": "markdown",
   "id": "60d04db0",
   "metadata": {},
   "source": [
    "# data gathering"
   ]
  },
  {
   "cell_type": "code",
   "execution_count": 1,
   "id": "16c4be27",
   "metadata": {},
   "outputs": [],
   "source": [
    "import pandas as pd\n",
    "import numpy as np\n",
    "\n",
    "import matplotlib.pyplot as plt\n",
    "import seaborn as sns\n",
    "import statsmodels.api as sm\n",
    "\n",
    "import warnings\n",
    "warnings.filterwarnings(\"ignore\")"
   ]
  },
  {
   "cell_type": "code",
   "execution_count": 2,
   "id": "5dc5b26b",
   "metadata": {},
   "outputs": [
    {
     "data": {
      "text/html": [
       "<div>\n",
       "<style scoped>\n",
       "    .dataframe tbody tr th:only-of-type {\n",
       "        vertical-align: middle;\n",
       "    }\n",
       "\n",
       "    .dataframe tbody tr th {\n",
       "        vertical-align: top;\n",
       "    }\n",
       "\n",
       "    .dataframe thead th {\n",
       "        text-align: right;\n",
       "    }\n",
       "</style>\n",
       "<table border=\"1\" class=\"dataframe\">\n",
       "  <thead>\n",
       "    <tr style=\"text-align: right;\">\n",
       "      <th></th>\n",
       "      <th>symboling</th>\n",
       "      <th>normalized-losses</th>\n",
       "      <th>make</th>\n",
       "      <th>fuel-type</th>\n",
       "      <th>aspiration</th>\n",
       "      <th>num-of-doors</th>\n",
       "      <th>body-style</th>\n",
       "      <th>drive-wheels</th>\n",
       "      <th>engine-location</th>\n",
       "      <th>wheel-base</th>\n",
       "      <th>...</th>\n",
       "      <th>engine-size</th>\n",
       "      <th>fuel-system</th>\n",
       "      <th>bore</th>\n",
       "      <th>stroke</th>\n",
       "      <th>compression-ratio</th>\n",
       "      <th>horsepower</th>\n",
       "      <th>peak-rpm</th>\n",
       "      <th>city-mpg</th>\n",
       "      <th>highway-mpg</th>\n",
       "      <th>price</th>\n",
       "    </tr>\n",
       "  </thead>\n",
       "  <tbody>\n",
       "    <tr>\n",
       "      <th>0</th>\n",
       "      <td>3</td>\n",
       "      <td>?</td>\n",
       "      <td>alfa-romero</td>\n",
       "      <td>gas</td>\n",
       "      <td>std</td>\n",
       "      <td>two</td>\n",
       "      <td>convertible</td>\n",
       "      <td>rwd</td>\n",
       "      <td>front</td>\n",
       "      <td>88.6</td>\n",
       "      <td>...</td>\n",
       "      <td>130</td>\n",
       "      <td>mpfi</td>\n",
       "      <td>3.47</td>\n",
       "      <td>2.68</td>\n",
       "      <td>9.0</td>\n",
       "      <td>111</td>\n",
       "      <td>5000</td>\n",
       "      <td>21</td>\n",
       "      <td>27</td>\n",
       "      <td>13495</td>\n",
       "    </tr>\n",
       "    <tr>\n",
       "      <th>1</th>\n",
       "      <td>3</td>\n",
       "      <td>?</td>\n",
       "      <td>alfa-romero</td>\n",
       "      <td>gas</td>\n",
       "      <td>std</td>\n",
       "      <td>two</td>\n",
       "      <td>convertible</td>\n",
       "      <td>rwd</td>\n",
       "      <td>front</td>\n",
       "      <td>88.6</td>\n",
       "      <td>...</td>\n",
       "      <td>130</td>\n",
       "      <td>mpfi</td>\n",
       "      <td>3.47</td>\n",
       "      <td>2.68</td>\n",
       "      <td>9.0</td>\n",
       "      <td>111</td>\n",
       "      <td>5000</td>\n",
       "      <td>21</td>\n",
       "      <td>27</td>\n",
       "      <td>16500</td>\n",
       "    </tr>\n",
       "    <tr>\n",
       "      <th>2</th>\n",
       "      <td>1</td>\n",
       "      <td>?</td>\n",
       "      <td>alfa-romero</td>\n",
       "      <td>gas</td>\n",
       "      <td>std</td>\n",
       "      <td>two</td>\n",
       "      <td>hatchback</td>\n",
       "      <td>rwd</td>\n",
       "      <td>front</td>\n",
       "      <td>94.5</td>\n",
       "      <td>...</td>\n",
       "      <td>152</td>\n",
       "      <td>mpfi</td>\n",
       "      <td>2.68</td>\n",
       "      <td>3.47</td>\n",
       "      <td>9.0</td>\n",
       "      <td>154</td>\n",
       "      <td>5000</td>\n",
       "      <td>19</td>\n",
       "      <td>26</td>\n",
       "      <td>16500</td>\n",
       "    </tr>\n",
       "    <tr>\n",
       "      <th>3</th>\n",
       "      <td>2</td>\n",
       "      <td>164</td>\n",
       "      <td>audi</td>\n",
       "      <td>gas</td>\n",
       "      <td>std</td>\n",
       "      <td>four</td>\n",
       "      <td>sedan</td>\n",
       "      <td>fwd</td>\n",
       "      <td>front</td>\n",
       "      <td>99.8</td>\n",
       "      <td>...</td>\n",
       "      <td>109</td>\n",
       "      <td>mpfi</td>\n",
       "      <td>3.19</td>\n",
       "      <td>3.4</td>\n",
       "      <td>10.0</td>\n",
       "      <td>102</td>\n",
       "      <td>5500</td>\n",
       "      <td>24</td>\n",
       "      <td>30</td>\n",
       "      <td>13950</td>\n",
       "    </tr>\n",
       "    <tr>\n",
       "      <th>4</th>\n",
       "      <td>2</td>\n",
       "      <td>164</td>\n",
       "      <td>audi</td>\n",
       "      <td>gas</td>\n",
       "      <td>std</td>\n",
       "      <td>four</td>\n",
       "      <td>sedan</td>\n",
       "      <td>4wd</td>\n",
       "      <td>front</td>\n",
       "      <td>99.4</td>\n",
       "      <td>...</td>\n",
       "      <td>136</td>\n",
       "      <td>mpfi</td>\n",
       "      <td>3.19</td>\n",
       "      <td>3.4</td>\n",
       "      <td>8.0</td>\n",
       "      <td>115</td>\n",
       "      <td>5500</td>\n",
       "      <td>18</td>\n",
       "      <td>22</td>\n",
       "      <td>17450</td>\n",
       "    </tr>\n",
       "    <tr>\n",
       "      <th>...</th>\n",
       "      <td>...</td>\n",
       "      <td>...</td>\n",
       "      <td>...</td>\n",
       "      <td>...</td>\n",
       "      <td>...</td>\n",
       "      <td>...</td>\n",
       "      <td>...</td>\n",
       "      <td>...</td>\n",
       "      <td>...</td>\n",
       "      <td>...</td>\n",
       "      <td>...</td>\n",
       "      <td>...</td>\n",
       "      <td>...</td>\n",
       "      <td>...</td>\n",
       "      <td>...</td>\n",
       "      <td>...</td>\n",
       "      <td>...</td>\n",
       "      <td>...</td>\n",
       "      <td>...</td>\n",
       "      <td>...</td>\n",
       "      <td>...</td>\n",
       "    </tr>\n",
       "    <tr>\n",
       "      <th>200</th>\n",
       "      <td>-1</td>\n",
       "      <td>95</td>\n",
       "      <td>volvo</td>\n",
       "      <td>gas</td>\n",
       "      <td>std</td>\n",
       "      <td>four</td>\n",
       "      <td>sedan</td>\n",
       "      <td>rwd</td>\n",
       "      <td>front</td>\n",
       "      <td>109.1</td>\n",
       "      <td>...</td>\n",
       "      <td>141</td>\n",
       "      <td>mpfi</td>\n",
       "      <td>3.78</td>\n",
       "      <td>3.15</td>\n",
       "      <td>9.5</td>\n",
       "      <td>114</td>\n",
       "      <td>5400</td>\n",
       "      <td>23</td>\n",
       "      <td>28</td>\n",
       "      <td>16845</td>\n",
       "    </tr>\n",
       "    <tr>\n",
       "      <th>201</th>\n",
       "      <td>-1</td>\n",
       "      <td>95</td>\n",
       "      <td>volvo</td>\n",
       "      <td>gas</td>\n",
       "      <td>turbo</td>\n",
       "      <td>four</td>\n",
       "      <td>sedan</td>\n",
       "      <td>rwd</td>\n",
       "      <td>front</td>\n",
       "      <td>109.1</td>\n",
       "      <td>...</td>\n",
       "      <td>141</td>\n",
       "      <td>mpfi</td>\n",
       "      <td>3.78</td>\n",
       "      <td>3.15</td>\n",
       "      <td>8.7</td>\n",
       "      <td>160</td>\n",
       "      <td>5300</td>\n",
       "      <td>19</td>\n",
       "      <td>25</td>\n",
       "      <td>19045</td>\n",
       "    </tr>\n",
       "    <tr>\n",
       "      <th>202</th>\n",
       "      <td>-1</td>\n",
       "      <td>95</td>\n",
       "      <td>volvo</td>\n",
       "      <td>gas</td>\n",
       "      <td>std</td>\n",
       "      <td>four</td>\n",
       "      <td>sedan</td>\n",
       "      <td>rwd</td>\n",
       "      <td>front</td>\n",
       "      <td>109.1</td>\n",
       "      <td>...</td>\n",
       "      <td>173</td>\n",
       "      <td>mpfi</td>\n",
       "      <td>3.58</td>\n",
       "      <td>2.87</td>\n",
       "      <td>8.8</td>\n",
       "      <td>134</td>\n",
       "      <td>5500</td>\n",
       "      <td>18</td>\n",
       "      <td>23</td>\n",
       "      <td>21485</td>\n",
       "    </tr>\n",
       "    <tr>\n",
       "      <th>203</th>\n",
       "      <td>-1</td>\n",
       "      <td>95</td>\n",
       "      <td>volvo</td>\n",
       "      <td>diesel</td>\n",
       "      <td>turbo</td>\n",
       "      <td>four</td>\n",
       "      <td>sedan</td>\n",
       "      <td>rwd</td>\n",
       "      <td>front</td>\n",
       "      <td>109.1</td>\n",
       "      <td>...</td>\n",
       "      <td>145</td>\n",
       "      <td>idi</td>\n",
       "      <td>3.01</td>\n",
       "      <td>3.4</td>\n",
       "      <td>23.0</td>\n",
       "      <td>106</td>\n",
       "      <td>4800</td>\n",
       "      <td>26</td>\n",
       "      <td>27</td>\n",
       "      <td>22470</td>\n",
       "    </tr>\n",
       "    <tr>\n",
       "      <th>204</th>\n",
       "      <td>-1</td>\n",
       "      <td>95</td>\n",
       "      <td>volvo</td>\n",
       "      <td>gas</td>\n",
       "      <td>turbo</td>\n",
       "      <td>four</td>\n",
       "      <td>sedan</td>\n",
       "      <td>rwd</td>\n",
       "      <td>front</td>\n",
       "      <td>109.1</td>\n",
       "      <td>...</td>\n",
       "      <td>141</td>\n",
       "      <td>mpfi</td>\n",
       "      <td>3.78</td>\n",
       "      <td>3.15</td>\n",
       "      <td>9.5</td>\n",
       "      <td>114</td>\n",
       "      <td>5400</td>\n",
       "      <td>19</td>\n",
       "      <td>25</td>\n",
       "      <td>22625</td>\n",
       "    </tr>\n",
       "  </tbody>\n",
       "</table>\n",
       "<p>205 rows × 26 columns</p>\n",
       "</div>"
      ],
      "text/plain": [
       "     symboling normalized-losses         make fuel-type aspiration  \\\n",
       "0            3                 ?  alfa-romero       gas        std   \n",
       "1            3                 ?  alfa-romero       gas        std   \n",
       "2            1                 ?  alfa-romero       gas        std   \n",
       "3            2               164         audi       gas        std   \n",
       "4            2               164         audi       gas        std   \n",
       "..         ...               ...          ...       ...        ...   \n",
       "200         -1                95        volvo       gas        std   \n",
       "201         -1                95        volvo       gas      turbo   \n",
       "202         -1                95        volvo       gas        std   \n",
       "203         -1                95        volvo    diesel      turbo   \n",
       "204         -1                95        volvo       gas      turbo   \n",
       "\n",
       "    num-of-doors   body-style drive-wheels engine-location  wheel-base  ...  \\\n",
       "0            two  convertible          rwd           front        88.6  ...   \n",
       "1            two  convertible          rwd           front        88.6  ...   \n",
       "2            two    hatchback          rwd           front        94.5  ...   \n",
       "3           four        sedan          fwd           front        99.8  ...   \n",
       "4           four        sedan          4wd           front        99.4  ...   \n",
       "..           ...          ...          ...             ...         ...  ...   \n",
       "200         four        sedan          rwd           front       109.1  ...   \n",
       "201         four        sedan          rwd           front       109.1  ...   \n",
       "202         four        sedan          rwd           front       109.1  ...   \n",
       "203         four        sedan          rwd           front       109.1  ...   \n",
       "204         four        sedan          rwd           front       109.1  ...   \n",
       "\n",
       "     engine-size  fuel-system  bore  stroke compression-ratio horsepower  \\\n",
       "0            130         mpfi  3.47    2.68               9.0        111   \n",
       "1            130         mpfi  3.47    2.68               9.0        111   \n",
       "2            152         mpfi  2.68    3.47               9.0        154   \n",
       "3            109         mpfi  3.19     3.4              10.0        102   \n",
       "4            136         mpfi  3.19     3.4               8.0        115   \n",
       "..           ...          ...   ...     ...               ...        ...   \n",
       "200          141         mpfi  3.78    3.15               9.5        114   \n",
       "201          141         mpfi  3.78    3.15               8.7        160   \n",
       "202          173         mpfi  3.58    2.87               8.8        134   \n",
       "203          145          idi  3.01     3.4              23.0        106   \n",
       "204          141         mpfi  3.78    3.15               9.5        114   \n",
       "\n",
       "     peak-rpm city-mpg highway-mpg  price  \n",
       "0        5000       21          27  13495  \n",
       "1        5000       21          27  16500  \n",
       "2        5000       19          26  16500  \n",
       "3        5500       24          30  13950  \n",
       "4        5500       18          22  17450  \n",
       "..        ...      ...         ...    ...  \n",
       "200      5400       23          28  16845  \n",
       "201      5300       19          25  19045  \n",
       "202      5500       18          23  21485  \n",
       "203      4800       26          27  22470  \n",
       "204      5400       19          25  22625  \n",
       "\n",
       "[205 rows x 26 columns]"
      ]
     },
     "execution_count": 2,
     "metadata": {},
     "output_type": "execute_result"
    }
   ],
   "source": [
    "df = pd.read_csv(\"autos_dataset.csv\")\n",
    "df"
   ]
  },
  {
   "cell_type": "code",
   "execution_count": 3,
   "id": "f9fbdb4a",
   "metadata": {},
   "outputs": [
    {
     "name": "stdout",
     "output_type": "stream",
     "text": [
      "<class 'pandas.core.frame.DataFrame'>\n",
      "RangeIndex: 205 entries, 0 to 204\n",
      "Data columns (total 26 columns):\n",
      " #   Column             Non-Null Count  Dtype  \n",
      "---  ------             --------------  -----  \n",
      " 0   symboling          205 non-null    int64  \n",
      " 1   normalized-losses  205 non-null    object \n",
      " 2   make               205 non-null    object \n",
      " 3   fuel-type          205 non-null    object \n",
      " 4   aspiration         205 non-null    object \n",
      " 5   num-of-doors       205 non-null    object \n",
      " 6   body-style         205 non-null    object \n",
      " 7   drive-wheels       205 non-null    object \n",
      " 8   engine-location    205 non-null    object \n",
      " 9   wheel-base         205 non-null    float64\n",
      " 10  length             205 non-null    float64\n",
      " 11  width              205 non-null    float64\n",
      " 12  height             205 non-null    float64\n",
      " 13  curb-weight        205 non-null    int64  \n",
      " 14  engine-type        205 non-null    object \n",
      " 15  num-of-cylinders   205 non-null    object \n",
      " 16  engine-size        205 non-null    int64  \n",
      " 17  fuel-system        205 non-null    object \n",
      " 18  bore               205 non-null    object \n",
      " 19  stroke             205 non-null    object \n",
      " 20  compression-ratio  205 non-null    float64\n",
      " 21  horsepower         205 non-null    object \n",
      " 22  peak-rpm           205 non-null    object \n",
      " 23  city-mpg           205 non-null    int64  \n",
      " 24  highway-mpg        205 non-null    int64  \n",
      " 25  price              205 non-null    object \n",
      "dtypes: float64(5), int64(5), object(16)\n",
      "memory usage: 41.8+ KB\n"
     ]
    }
   ],
   "source": [
    "df.info()"
   ]
  },
  {
   "cell_type": "markdown",
   "id": "79bf5954",
   "metadata": {},
   "source": [
    "# EDA"
   ]
  },
  {
   "cell_type": "code",
   "execution_count": 4,
   "id": "bd5d7beb",
   "metadata": {},
   "outputs": [
    {
     "data": {
      "text/plain": [
       "symboling            0\n",
       "normalized-losses    0\n",
       "make                 0\n",
       "fuel-type            0\n",
       "aspiration           0\n",
       "num-of-doors         0\n",
       "body-style           0\n",
       "drive-wheels         0\n",
       "engine-location      0\n",
       "wheel-base           0\n",
       "length               0\n",
       "width                0\n",
       "height               0\n",
       "curb-weight          0\n",
       "engine-type          0\n",
       "num-of-cylinders     0\n",
       "engine-size          0\n",
       "fuel-system          0\n",
       "bore                 0\n",
       "stroke               0\n",
       "compression-ratio    0\n",
       "horsepower           0\n",
       "peak-rpm             0\n",
       "city-mpg             0\n",
       "highway-mpg          0\n",
       "price                0\n",
       "dtype: int64"
      ]
     },
     "execution_count": 4,
     "metadata": {},
     "output_type": "execute_result"
    }
   ],
   "source": [
    "df.isna().sum()"
   ]
  },
  {
   "cell_type": "code",
   "execution_count": 5,
   "id": "d7c0815c",
   "metadata": {},
   "outputs": [
    {
     "name": "stdout",
     "output_type": "stream",
     "text": [
      "<class 'pandas.core.frame.DataFrame'>\n",
      "RangeIndex: 205 entries, 0 to 204\n",
      "Data columns (total 26 columns):\n",
      " #   Column             Non-Null Count  Dtype  \n",
      "---  ------             --------------  -----  \n",
      " 0   symboling          205 non-null    int64  \n",
      " 1   normalized-losses  205 non-null    object \n",
      " 2   make               205 non-null    object \n",
      " 3   fuel-type          205 non-null    object \n",
      " 4   aspiration         205 non-null    object \n",
      " 5   num-of-doors       205 non-null    object \n",
      " 6   body-style         205 non-null    object \n",
      " 7   drive-wheels       205 non-null    object \n",
      " 8   engine-location    205 non-null    object \n",
      " 9   wheel-base         205 non-null    float64\n",
      " 10  length             205 non-null    float64\n",
      " 11  width              205 non-null    float64\n",
      " 12  height             205 non-null    float64\n",
      " 13  curb-weight        205 non-null    int64  \n",
      " 14  engine-type        205 non-null    object \n",
      " 15  num-of-cylinders   205 non-null    object \n",
      " 16  engine-size        205 non-null    int64  \n",
      " 17  fuel-system        205 non-null    object \n",
      " 18  bore               205 non-null    object \n",
      " 19  stroke             205 non-null    object \n",
      " 20  compression-ratio  205 non-null    float64\n",
      " 21  horsepower         205 non-null    object \n",
      " 22  peak-rpm           205 non-null    object \n",
      " 23  city-mpg           205 non-null    int64  \n",
      " 24  highway-mpg        205 non-null    int64  \n",
      " 25  price              205 non-null    object \n",
      "dtypes: float64(5), int64(5), object(16)\n",
      "memory usage: 41.8+ KB\n"
     ]
    }
   ],
   "source": [
    "df.info()"
   ]
  },
  {
   "cell_type": "code",
   "execution_count": 6,
   "id": "9ff0cec8",
   "metadata": {},
   "outputs": [
    {
     "data": {
      "text/plain": [
       "array([ 3,  1,  2,  0, -1, -2], dtype=int64)"
      ]
     },
     "execution_count": 6,
     "metadata": {},
     "output_type": "execute_result"
    }
   ],
   "source": [
    "df[\"symboling\"].unique()"
   ]
  },
  {
   "cell_type": "code",
   "execution_count": 7,
   "id": "b8cdc72e",
   "metadata": {},
   "outputs": [
    {
     "data": {
      "text/plain": [
       "array(['?', '164', '158', '192', '188', '121', '98', '81', '118', '148',\n",
       "       '110', '145', '137', '101', '78', '106', '85', '107', '104', '113',\n",
       "       '150', '129', '115', '93', '142', '161', '153', '125', '128',\n",
       "       '122', '103', '168', '108', '194', '231', '119', '154', '74',\n",
       "       '186', '83', '102', '89', '87', '77', '91', '134', '65', '197',\n",
       "       '90', '94', '256', '95'], dtype=object)"
      ]
     },
     "execution_count": 7,
     "metadata": {},
     "output_type": "execute_result"
    }
   ],
   "source": [
    "df[\"normalized-losses\"].unique()"
   ]
  },
  {
   "cell_type": "code",
   "execution_count": 8,
   "id": "98031160",
   "metadata": {},
   "outputs": [],
   "source": [
    "df[\"normalized-losses\"].replace({\"?\":np.nan},inplace = True)"
   ]
  },
  {
   "cell_type": "code",
   "execution_count": 9,
   "id": "a317ab81",
   "metadata": {},
   "outputs": [],
   "source": [
    "df[\"normalized-losses\"].fillna(value = (df[\"normalized-losses\"].median()), inplace  =True)"
   ]
  },
  {
   "cell_type": "code",
   "execution_count": 10,
   "id": "2ba5b958",
   "metadata": {},
   "outputs": [],
   "source": [
    "df[\"normalized-losses\"] = df[\"normalized-losses\"].astype(float)"
   ]
  },
  {
   "cell_type": "code",
   "execution_count": 11,
   "id": "b3166511",
   "metadata": {},
   "outputs": [
    {
     "data": {
      "text/plain": [
       "array([115., 164., 158., 192., 188., 121.,  98.,  81., 118., 148., 110.,\n",
       "       145., 137., 101.,  78., 106.,  85., 107., 104., 113., 150., 129.,\n",
       "        93., 142., 161., 153., 125., 128., 122., 103., 168., 108., 194.,\n",
       "       231., 119., 154.,  74., 186.,  83., 102.,  89.,  87.,  77.,  91.,\n",
       "       134.,  65., 197.,  90.,  94., 256.,  95.])"
      ]
     },
     "execution_count": 11,
     "metadata": {},
     "output_type": "execute_result"
    }
   ],
   "source": [
    "df[\"normalized-losses\"].unique()"
   ]
  },
  {
   "cell_type": "code",
   "execution_count": 12,
   "id": "37ff58b1",
   "metadata": {},
   "outputs": [
    {
     "data": {
      "text/plain": [
       "{'toyota': 32,\n",
       " 'nissan': 18,\n",
       " 'mazda': 17,\n",
       " 'mitsubishi': 13,\n",
       " 'honda': 13,\n",
       " 'volkswagen': 12,\n",
       " 'subaru': 12,\n",
       " 'peugot': 11,\n",
       " 'volvo': 11,\n",
       " 'dodge': 9,\n",
       " 'mercedes-benz': 8,\n",
       " 'bmw': 8,\n",
       " 'audi': 7,\n",
       " 'plymouth': 7,\n",
       " 'saab': 6,\n",
       " 'porsche': 5,\n",
       " 'isuzu': 4,\n",
       " 'jaguar': 3,\n",
       " 'chevrolet': 3,\n",
       " 'alfa-romero': 3,\n",
       " 'renault': 2,\n",
       " 'mercury': 1}"
      ]
     },
     "execution_count": 12,
     "metadata": {},
     "output_type": "execute_result"
    }
   ],
   "source": [
    "df[\"make\"].value_counts().to_dict()"
   ]
  },
  {
   "cell_type": "code",
   "execution_count": 13,
   "id": "dabc5366",
   "metadata": {},
   "outputs": [],
   "source": [
    "df = pd.get_dummies(df,columns=[\"make\"])"
   ]
  },
  {
   "cell_type": "code",
   "execution_count": 14,
   "id": "03273062",
   "metadata": {},
   "outputs": [
    {
     "data": {
      "text/html": [
       "<div>\n",
       "<style scoped>\n",
       "    .dataframe tbody tr th:only-of-type {\n",
       "        vertical-align: middle;\n",
       "    }\n",
       "\n",
       "    .dataframe tbody tr th {\n",
       "        vertical-align: top;\n",
       "    }\n",
       "\n",
       "    .dataframe thead th {\n",
       "        text-align: right;\n",
       "    }\n",
       "</style>\n",
       "<table border=\"1\" class=\"dataframe\">\n",
       "  <thead>\n",
       "    <tr style=\"text-align: right;\">\n",
       "      <th></th>\n",
       "      <th>symboling</th>\n",
       "      <th>normalized-losses</th>\n",
       "      <th>fuel-type</th>\n",
       "      <th>aspiration</th>\n",
       "      <th>num-of-doors</th>\n",
       "      <th>body-style</th>\n",
       "      <th>drive-wheels</th>\n",
       "      <th>engine-location</th>\n",
       "      <th>wheel-base</th>\n",
       "      <th>length</th>\n",
       "      <th>...</th>\n",
       "      <th>make_nissan</th>\n",
       "      <th>make_peugot</th>\n",
       "      <th>make_plymouth</th>\n",
       "      <th>make_porsche</th>\n",
       "      <th>make_renault</th>\n",
       "      <th>make_saab</th>\n",
       "      <th>make_subaru</th>\n",
       "      <th>make_toyota</th>\n",
       "      <th>make_volkswagen</th>\n",
       "      <th>make_volvo</th>\n",
       "    </tr>\n",
       "  </thead>\n",
       "  <tbody>\n",
       "    <tr>\n",
       "      <th>0</th>\n",
       "      <td>3</td>\n",
       "      <td>115.0</td>\n",
       "      <td>gas</td>\n",
       "      <td>std</td>\n",
       "      <td>two</td>\n",
       "      <td>convertible</td>\n",
       "      <td>rwd</td>\n",
       "      <td>front</td>\n",
       "      <td>88.6</td>\n",
       "      <td>168.8</td>\n",
       "      <td>...</td>\n",
       "      <td>0</td>\n",
       "      <td>0</td>\n",
       "      <td>0</td>\n",
       "      <td>0</td>\n",
       "      <td>0</td>\n",
       "      <td>0</td>\n",
       "      <td>0</td>\n",
       "      <td>0</td>\n",
       "      <td>0</td>\n",
       "      <td>0</td>\n",
       "    </tr>\n",
       "    <tr>\n",
       "      <th>1</th>\n",
       "      <td>3</td>\n",
       "      <td>115.0</td>\n",
       "      <td>gas</td>\n",
       "      <td>std</td>\n",
       "      <td>two</td>\n",
       "      <td>convertible</td>\n",
       "      <td>rwd</td>\n",
       "      <td>front</td>\n",
       "      <td>88.6</td>\n",
       "      <td>168.8</td>\n",
       "      <td>...</td>\n",
       "      <td>0</td>\n",
       "      <td>0</td>\n",
       "      <td>0</td>\n",
       "      <td>0</td>\n",
       "      <td>0</td>\n",
       "      <td>0</td>\n",
       "      <td>0</td>\n",
       "      <td>0</td>\n",
       "      <td>0</td>\n",
       "      <td>0</td>\n",
       "    </tr>\n",
       "    <tr>\n",
       "      <th>2</th>\n",
       "      <td>1</td>\n",
       "      <td>115.0</td>\n",
       "      <td>gas</td>\n",
       "      <td>std</td>\n",
       "      <td>two</td>\n",
       "      <td>hatchback</td>\n",
       "      <td>rwd</td>\n",
       "      <td>front</td>\n",
       "      <td>94.5</td>\n",
       "      <td>171.2</td>\n",
       "      <td>...</td>\n",
       "      <td>0</td>\n",
       "      <td>0</td>\n",
       "      <td>0</td>\n",
       "      <td>0</td>\n",
       "      <td>0</td>\n",
       "      <td>0</td>\n",
       "      <td>0</td>\n",
       "      <td>0</td>\n",
       "      <td>0</td>\n",
       "      <td>0</td>\n",
       "    </tr>\n",
       "    <tr>\n",
       "      <th>3</th>\n",
       "      <td>2</td>\n",
       "      <td>164.0</td>\n",
       "      <td>gas</td>\n",
       "      <td>std</td>\n",
       "      <td>four</td>\n",
       "      <td>sedan</td>\n",
       "      <td>fwd</td>\n",
       "      <td>front</td>\n",
       "      <td>99.8</td>\n",
       "      <td>176.6</td>\n",
       "      <td>...</td>\n",
       "      <td>0</td>\n",
       "      <td>0</td>\n",
       "      <td>0</td>\n",
       "      <td>0</td>\n",
       "      <td>0</td>\n",
       "      <td>0</td>\n",
       "      <td>0</td>\n",
       "      <td>0</td>\n",
       "      <td>0</td>\n",
       "      <td>0</td>\n",
       "    </tr>\n",
       "    <tr>\n",
       "      <th>4</th>\n",
       "      <td>2</td>\n",
       "      <td>164.0</td>\n",
       "      <td>gas</td>\n",
       "      <td>std</td>\n",
       "      <td>four</td>\n",
       "      <td>sedan</td>\n",
       "      <td>4wd</td>\n",
       "      <td>front</td>\n",
       "      <td>99.4</td>\n",
       "      <td>176.6</td>\n",
       "      <td>...</td>\n",
       "      <td>0</td>\n",
       "      <td>0</td>\n",
       "      <td>0</td>\n",
       "      <td>0</td>\n",
       "      <td>0</td>\n",
       "      <td>0</td>\n",
       "      <td>0</td>\n",
       "      <td>0</td>\n",
       "      <td>0</td>\n",
       "      <td>0</td>\n",
       "    </tr>\n",
       "    <tr>\n",
       "      <th>...</th>\n",
       "      <td>...</td>\n",
       "      <td>...</td>\n",
       "      <td>...</td>\n",
       "      <td>...</td>\n",
       "      <td>...</td>\n",
       "      <td>...</td>\n",
       "      <td>...</td>\n",
       "      <td>...</td>\n",
       "      <td>...</td>\n",
       "      <td>...</td>\n",
       "      <td>...</td>\n",
       "      <td>...</td>\n",
       "      <td>...</td>\n",
       "      <td>...</td>\n",
       "      <td>...</td>\n",
       "      <td>...</td>\n",
       "      <td>...</td>\n",
       "      <td>...</td>\n",
       "      <td>...</td>\n",
       "      <td>...</td>\n",
       "      <td>...</td>\n",
       "    </tr>\n",
       "    <tr>\n",
       "      <th>200</th>\n",
       "      <td>-1</td>\n",
       "      <td>95.0</td>\n",
       "      <td>gas</td>\n",
       "      <td>std</td>\n",
       "      <td>four</td>\n",
       "      <td>sedan</td>\n",
       "      <td>rwd</td>\n",
       "      <td>front</td>\n",
       "      <td>109.1</td>\n",
       "      <td>188.8</td>\n",
       "      <td>...</td>\n",
       "      <td>0</td>\n",
       "      <td>0</td>\n",
       "      <td>0</td>\n",
       "      <td>0</td>\n",
       "      <td>0</td>\n",
       "      <td>0</td>\n",
       "      <td>0</td>\n",
       "      <td>0</td>\n",
       "      <td>0</td>\n",
       "      <td>1</td>\n",
       "    </tr>\n",
       "    <tr>\n",
       "      <th>201</th>\n",
       "      <td>-1</td>\n",
       "      <td>95.0</td>\n",
       "      <td>gas</td>\n",
       "      <td>turbo</td>\n",
       "      <td>four</td>\n",
       "      <td>sedan</td>\n",
       "      <td>rwd</td>\n",
       "      <td>front</td>\n",
       "      <td>109.1</td>\n",
       "      <td>188.8</td>\n",
       "      <td>...</td>\n",
       "      <td>0</td>\n",
       "      <td>0</td>\n",
       "      <td>0</td>\n",
       "      <td>0</td>\n",
       "      <td>0</td>\n",
       "      <td>0</td>\n",
       "      <td>0</td>\n",
       "      <td>0</td>\n",
       "      <td>0</td>\n",
       "      <td>1</td>\n",
       "    </tr>\n",
       "    <tr>\n",
       "      <th>202</th>\n",
       "      <td>-1</td>\n",
       "      <td>95.0</td>\n",
       "      <td>gas</td>\n",
       "      <td>std</td>\n",
       "      <td>four</td>\n",
       "      <td>sedan</td>\n",
       "      <td>rwd</td>\n",
       "      <td>front</td>\n",
       "      <td>109.1</td>\n",
       "      <td>188.8</td>\n",
       "      <td>...</td>\n",
       "      <td>0</td>\n",
       "      <td>0</td>\n",
       "      <td>0</td>\n",
       "      <td>0</td>\n",
       "      <td>0</td>\n",
       "      <td>0</td>\n",
       "      <td>0</td>\n",
       "      <td>0</td>\n",
       "      <td>0</td>\n",
       "      <td>1</td>\n",
       "    </tr>\n",
       "    <tr>\n",
       "      <th>203</th>\n",
       "      <td>-1</td>\n",
       "      <td>95.0</td>\n",
       "      <td>diesel</td>\n",
       "      <td>turbo</td>\n",
       "      <td>four</td>\n",
       "      <td>sedan</td>\n",
       "      <td>rwd</td>\n",
       "      <td>front</td>\n",
       "      <td>109.1</td>\n",
       "      <td>188.8</td>\n",
       "      <td>...</td>\n",
       "      <td>0</td>\n",
       "      <td>0</td>\n",
       "      <td>0</td>\n",
       "      <td>0</td>\n",
       "      <td>0</td>\n",
       "      <td>0</td>\n",
       "      <td>0</td>\n",
       "      <td>0</td>\n",
       "      <td>0</td>\n",
       "      <td>1</td>\n",
       "    </tr>\n",
       "    <tr>\n",
       "      <th>204</th>\n",
       "      <td>-1</td>\n",
       "      <td>95.0</td>\n",
       "      <td>gas</td>\n",
       "      <td>turbo</td>\n",
       "      <td>four</td>\n",
       "      <td>sedan</td>\n",
       "      <td>rwd</td>\n",
       "      <td>front</td>\n",
       "      <td>109.1</td>\n",
       "      <td>188.8</td>\n",
       "      <td>...</td>\n",
       "      <td>0</td>\n",
       "      <td>0</td>\n",
       "      <td>0</td>\n",
       "      <td>0</td>\n",
       "      <td>0</td>\n",
       "      <td>0</td>\n",
       "      <td>0</td>\n",
       "      <td>0</td>\n",
       "      <td>0</td>\n",
       "      <td>1</td>\n",
       "    </tr>\n",
       "  </tbody>\n",
       "</table>\n",
       "<p>205 rows × 47 columns</p>\n",
       "</div>"
      ],
      "text/plain": [
       "     symboling  normalized-losses fuel-type aspiration num-of-doors  \\\n",
       "0            3              115.0       gas        std          two   \n",
       "1            3              115.0       gas        std          two   \n",
       "2            1              115.0       gas        std          two   \n",
       "3            2              164.0       gas        std         four   \n",
       "4            2              164.0       gas        std         four   \n",
       "..         ...                ...       ...        ...          ...   \n",
       "200         -1               95.0       gas        std         four   \n",
       "201         -1               95.0       gas      turbo         four   \n",
       "202         -1               95.0       gas        std         four   \n",
       "203         -1               95.0    diesel      turbo         four   \n",
       "204         -1               95.0       gas      turbo         four   \n",
       "\n",
       "      body-style drive-wheels engine-location  wheel-base  length  ...  \\\n",
       "0    convertible          rwd           front        88.6   168.8  ...   \n",
       "1    convertible          rwd           front        88.6   168.8  ...   \n",
       "2      hatchback          rwd           front        94.5   171.2  ...   \n",
       "3          sedan          fwd           front        99.8   176.6  ...   \n",
       "4          sedan          4wd           front        99.4   176.6  ...   \n",
       "..           ...          ...             ...         ...     ...  ...   \n",
       "200        sedan          rwd           front       109.1   188.8  ...   \n",
       "201        sedan          rwd           front       109.1   188.8  ...   \n",
       "202        sedan          rwd           front       109.1   188.8  ...   \n",
       "203        sedan          rwd           front       109.1   188.8  ...   \n",
       "204        sedan          rwd           front       109.1   188.8  ...   \n",
       "\n",
       "     make_nissan  make_peugot  make_plymouth make_porsche make_renault  \\\n",
       "0              0            0              0            0            0   \n",
       "1              0            0              0            0            0   \n",
       "2              0            0              0            0            0   \n",
       "3              0            0              0            0            0   \n",
       "4              0            0              0            0            0   \n",
       "..           ...          ...            ...          ...          ...   \n",
       "200            0            0              0            0            0   \n",
       "201            0            0              0            0            0   \n",
       "202            0            0              0            0            0   \n",
       "203            0            0              0            0            0   \n",
       "204            0            0              0            0            0   \n",
       "\n",
       "     make_saab make_subaru make_toyota make_volkswagen  make_volvo  \n",
       "0            0           0           0               0           0  \n",
       "1            0           0           0               0           0  \n",
       "2            0           0           0               0           0  \n",
       "3            0           0           0               0           0  \n",
       "4            0           0           0               0           0  \n",
       "..         ...         ...         ...             ...         ...  \n",
       "200          0           0           0               0           1  \n",
       "201          0           0           0               0           1  \n",
       "202          0           0           0               0           1  \n",
       "203          0           0           0               0           1  \n",
       "204          0           0           0               0           1  \n",
       "\n",
       "[205 rows x 47 columns]"
      ]
     },
     "execution_count": 14,
     "metadata": {},
     "output_type": "execute_result"
    }
   ],
   "source": [
    "df"
   ]
  },
  {
   "cell_type": "code",
   "execution_count": null,
   "id": "c5c7a79d",
   "metadata": {},
   "outputs": [],
   "source": []
  },
  {
   "cell_type": "code",
   "execution_count": null,
   "id": "6db2b42a",
   "metadata": {},
   "outputs": [],
   "source": []
  },
  {
   "cell_type": "code",
   "execution_count": 15,
   "id": "6df73491",
   "metadata": {},
   "outputs": [],
   "source": [
    "# from sklearn import preprocessing\n",
    "# from sklearn.preprocessing import OneHotEncoder, LabelEncoder"
   ]
  },
  {
   "cell_type": "code",
   "execution_count": 16,
   "id": "12e79e7e",
   "metadata": {},
   "outputs": [],
   "source": [
    "# label_encoder = preprocessing.LabelEncoder()\n",
    "\n",
    "# df['make']= label_encoder.fit_transform(df['make'])\n",
    "\n",
    "# df['make']"
   ]
  },
  {
   "cell_type": "code",
   "execution_count": 17,
   "id": "a3989af3",
   "metadata": {},
   "outputs": [],
   "source": [
    "df1 = df"
   ]
  },
  {
   "cell_type": "code",
   "execution_count": 18,
   "id": "9848a6ac",
   "metadata": {},
   "outputs": [
    {
     "data": {
      "text/plain": [
       "{'gas': 185, 'diesel': 20}"
      ]
     },
     "execution_count": 18,
     "metadata": {},
     "output_type": "execute_result"
    }
   ],
   "source": [
    "df1[\"fuel-type\"].value_counts().to_dict()"
   ]
  },
  {
   "cell_type": "code",
   "execution_count": 19,
   "id": "012b3fd0",
   "metadata": {},
   "outputs": [],
   "source": [
    "df1[\"fuel-type\"].replace({'gas': 0, 'diesel': 1}, inplace =True)"
   ]
  },
  {
   "cell_type": "code",
   "execution_count": 20,
   "id": "1dfe925f",
   "metadata": {},
   "outputs": [],
   "source": [
    "fuel_type_value = {'gas': 0, 'diesel': 1}"
   ]
  },
  {
   "cell_type": "code",
   "execution_count": 21,
   "id": "45918aa1",
   "metadata": {},
   "outputs": [
    {
     "data": {
      "text/plain": [
       "0    185\n",
       "1     20\n",
       "Name: fuel-type, dtype: int64"
      ]
     },
     "execution_count": 21,
     "metadata": {},
     "output_type": "execute_result"
    }
   ],
   "source": [
    "df1[\"fuel-type\"].value_counts()"
   ]
  },
  {
   "cell_type": "code",
   "execution_count": null,
   "id": "a8abbc4a",
   "metadata": {},
   "outputs": [],
   "source": []
  },
  {
   "cell_type": "code",
   "execution_count": 22,
   "id": "2476b428",
   "metadata": {},
   "outputs": [
    {
     "data": {
      "text/plain": [
       "{'std': 168, 'turbo': 37}"
      ]
     },
     "execution_count": 22,
     "metadata": {},
     "output_type": "execute_result"
    }
   ],
   "source": [
    "df1[\"aspiration\"].value_counts().to_dict()"
   ]
  },
  {
   "cell_type": "code",
   "execution_count": 23,
   "id": "ad5cde70",
   "metadata": {},
   "outputs": [],
   "source": [
    "df1[\"aspiration\"].replace({'std': 0, 'turbo': 1}, inplace = True)"
   ]
  },
  {
   "cell_type": "code",
   "execution_count": 24,
   "id": "7d12d3fe",
   "metadata": {},
   "outputs": [],
   "source": [
    "aspiration_value = {'std': 0, 'turbo': 1}"
   ]
  },
  {
   "cell_type": "code",
   "execution_count": 25,
   "id": "45655586",
   "metadata": {},
   "outputs": [
    {
     "data": {
      "text/plain": [
       "0    168\n",
       "1     37\n",
       "Name: aspiration, dtype: int64"
      ]
     },
     "execution_count": 25,
     "metadata": {},
     "output_type": "execute_result"
    }
   ],
   "source": [
    "df1[\"aspiration\"].value_counts()"
   ]
  },
  {
   "cell_type": "code",
   "execution_count": null,
   "id": "a381782f",
   "metadata": {},
   "outputs": [],
   "source": []
  },
  {
   "cell_type": "code",
   "execution_count": 26,
   "id": "01219677",
   "metadata": {},
   "outputs": [
    {
     "data": {
      "text/plain": [
       "array(['two', 'four', '?'], dtype=object)"
      ]
     },
     "execution_count": 26,
     "metadata": {},
     "output_type": "execute_result"
    }
   ],
   "source": [
    "df1[\"num-of-doors\"].unique()"
   ]
  },
  {
   "cell_type": "code",
   "execution_count": 27,
   "id": "3af2047a",
   "metadata": {},
   "outputs": [
    {
     "data": {
      "text/plain": [
       "0    four\n",
       "Name: num-of-doors, dtype: object"
      ]
     },
     "execution_count": 27,
     "metadata": {},
     "output_type": "execute_result"
    }
   ],
   "source": [
    "df1[\"num-of-doors\"].mode()"
   ]
  },
  {
   "cell_type": "code",
   "execution_count": 28,
   "id": "4ac9f110",
   "metadata": {},
   "outputs": [],
   "source": [
    "df1[\"num-of-doors\"].replace({\"?\":\"four\"}, inplace = True)"
   ]
  },
  {
   "cell_type": "code",
   "execution_count": 29,
   "id": "7de42e9a",
   "metadata": {},
   "outputs": [
    {
     "data": {
      "text/plain": [
       "{'four': 116, 'two': 89}"
      ]
     },
     "execution_count": 29,
     "metadata": {},
     "output_type": "execute_result"
    }
   ],
   "source": [
    "df1[\"num-of-doors\"].value_counts().to_dict()"
   ]
  },
  {
   "cell_type": "code",
   "execution_count": 30,
   "id": "8fe87de2",
   "metadata": {},
   "outputs": [],
   "source": [
    "df1[\"num-of-doors\"].replace({'four': 0, 'two': 1}, inplace = True)"
   ]
  },
  {
   "cell_type": "code",
   "execution_count": 31,
   "id": "142703a0",
   "metadata": {},
   "outputs": [],
   "source": [
    "num_of_doors_value = {'four': 0, 'two': 1}"
   ]
  },
  {
   "cell_type": "code",
   "execution_count": 32,
   "id": "bd94443a",
   "metadata": {},
   "outputs": [
    {
     "data": {
      "text/plain": [
       "array(['convertible', 'hatchback', 'sedan', 'wagon', 'hardtop'],\n",
       "      dtype=object)"
      ]
     },
     "execution_count": 32,
     "metadata": {},
     "output_type": "execute_result"
    }
   ],
   "source": [
    "df1[\"body-style\"].unique()"
   ]
  },
  {
   "cell_type": "code",
   "execution_count": 33,
   "id": "8916aed2",
   "metadata": {},
   "outputs": [],
   "source": [
    "df1 = pd.get_dummies(df1,columns=[\"body-style\"])"
   ]
  },
  {
   "cell_type": "code",
   "execution_count": null,
   "id": "49d03b32",
   "metadata": {},
   "outputs": [],
   "source": []
  },
  {
   "cell_type": "code",
   "execution_count": 34,
   "id": "5607373d",
   "metadata": {},
   "outputs": [
    {
     "data": {
      "text/plain": [
       "{'fwd': 120, 'rwd': 76, '4wd': 9}"
      ]
     },
     "execution_count": 34,
     "metadata": {},
     "output_type": "execute_result"
    }
   ],
   "source": [
    "df1[\"drive-wheels\"].value_counts().to_dict()"
   ]
  },
  {
   "cell_type": "code",
   "execution_count": 35,
   "id": "43583fa0",
   "metadata": {},
   "outputs": [],
   "source": [
    "df1[\"drive-wheels\"].replace({'fwd': 0, 'rwd': 1, '4wd': 2}, inplace = True)"
   ]
  },
  {
   "cell_type": "code",
   "execution_count": 36,
   "id": "4f8bb762",
   "metadata": {},
   "outputs": [],
   "source": [
    "drive_wheels = {'fwd': 0, 'rwd': 1, '4wd': 2} "
   ]
  },
  {
   "cell_type": "code",
   "execution_count": 37,
   "id": "e971fab3",
   "metadata": {},
   "outputs": [
    {
     "data": {
      "text/plain": [
       "{'front': 202, 'rear': 3}"
      ]
     },
     "execution_count": 37,
     "metadata": {},
     "output_type": "execute_result"
    }
   ],
   "source": [
    "df1[\"engine-location\"].value_counts().to_dict()"
   ]
  },
  {
   "cell_type": "code",
   "execution_count": 38,
   "id": "065261ca",
   "metadata": {},
   "outputs": [],
   "source": [
    "df1[\"engine-location\"].replace({'front': 0, 'rear': 1}, inplace = True)"
   ]
  },
  {
   "cell_type": "code",
   "execution_count": 39,
   "id": "66df1598",
   "metadata": {},
   "outputs": [],
   "source": [
    "engine_location = {'front': 0, 'rear': 1}"
   ]
  },
  {
   "cell_type": "code",
   "execution_count": 40,
   "id": "01762a48",
   "metadata": {},
   "outputs": [
    {
     "data": {
      "text/plain": [
       "ohc      148\n",
       "ohcf      15\n",
       "ohcv      13\n",
       "dohc      12\n",
       "l         12\n",
       "rotor      4\n",
       "dohcv      1\n",
       "Name: engine-type, dtype: int64"
      ]
     },
     "execution_count": 40,
     "metadata": {},
     "output_type": "execute_result"
    }
   ],
   "source": [
    "df1[\"engine-type\"].value_counts()"
   ]
  },
  {
   "cell_type": "code",
   "execution_count": 41,
   "id": "154ddb97",
   "metadata": {},
   "outputs": [],
   "source": [
    "df1 = pd.get_dummies(df1 , columns= [\"engine-type\"])"
   ]
  },
  {
   "cell_type": "code",
   "execution_count": null,
   "id": "291c763a",
   "metadata": {},
   "outputs": [],
   "source": []
  },
  {
   "cell_type": "code",
   "execution_count": 42,
   "id": "4425ce70",
   "metadata": {},
   "outputs": [
    {
     "data": {
      "text/plain": [
       "{'four': 159,\n",
       " 'six': 24,\n",
       " 'five': 11,\n",
       " 'eight': 5,\n",
       " 'two': 4,\n",
       " 'three': 1,\n",
       " 'twelve': 1}"
      ]
     },
     "execution_count": 42,
     "metadata": {},
     "output_type": "execute_result"
    }
   ],
   "source": [
    "df1[\"num-of-cylinders\"].value_counts().to_dict()"
   ]
  },
  {
   "cell_type": "code",
   "execution_count": 43,
   "id": "f9fa7c11",
   "metadata": {},
   "outputs": [],
   "source": [
    "# df1 = pd.get_dummies(df1 , columns= [\"num-of-cylinders\"])"
   ]
  },
  {
   "cell_type": "code",
   "execution_count": 44,
   "id": "d9db475d",
   "metadata": {},
   "outputs": [],
   "source": [
    "df1[\"num-of-cylinders\"].replace({'four': 4,\n",
    " 'six': 6,\n",
    " 'five': 5,\n",
    " 'eight': 8,\n",
    " 'two': 2,\n",
    " 'three': 3,\n",
    " 'twelve': 12},inplace = True)"
   ]
  },
  {
   "cell_type": "code",
   "execution_count": 45,
   "id": "d0dfbb63",
   "metadata": {},
   "outputs": [],
   "source": [
    "num_of_cylinders_value = {'four': 4,\n",
    " 'six': 6,\n",
    " 'five': 5,\n",
    " 'eight': 8,\n",
    " 'two': 2,\n",
    " 'three': 3,\n",
    " 'twelve': 12}"
   ]
  },
  {
   "cell_type": "code",
   "execution_count": 46,
   "id": "055a89ef",
   "metadata": {},
   "outputs": [
    {
     "data": {
      "text/plain": [
       "mpfi    94\n",
       "2bbl    66\n",
       "idi     20\n",
       "1bbl    11\n",
       "spdi     9\n",
       "4bbl     3\n",
       "mfi      1\n",
       "spfi     1\n",
       "Name: fuel-system, dtype: int64"
      ]
     },
     "execution_count": 46,
     "metadata": {},
     "output_type": "execute_result"
    }
   ],
   "source": [
    "df1[\"fuel-system\"].value_counts()"
   ]
  },
  {
   "cell_type": "code",
   "execution_count": 47,
   "id": "9b81e4aa",
   "metadata": {},
   "outputs": [],
   "source": [
    "df1 = pd.get_dummies(df1 , columns= [\"fuel-system\"])"
   ]
  },
  {
   "cell_type": "code",
   "execution_count": null,
   "id": "1d58ff4e",
   "metadata": {},
   "outputs": [],
   "source": []
  },
  {
   "cell_type": "code",
   "execution_count": 48,
   "id": "92abd1a8",
   "metadata": {},
   "outputs": [
    {
     "data": {
      "text/plain": [
       "array(['3.47', '2.68', '3.19', '3.13', '3.5', '3.31', '3.62', '2.91',\n",
       "       '3.03', '2.97', '3.34', '3.6', '2.92', '3.15', '3.43', '3.63',\n",
       "       '3.54', '3.08', '?', '3.39', '3.76', '3.58', '3.46', '3.8', '3.78',\n",
       "       '3.17', '3.35', '3.59', '2.99', '3.33', '3.7', '3.61', '3.94',\n",
       "       '3.74', '2.54', '3.05', '3.27', '3.24', '3.01'], dtype=object)"
      ]
     },
     "execution_count": 48,
     "metadata": {},
     "output_type": "execute_result"
    }
   ],
   "source": [
    "df1[\"bore\"].unique()"
   ]
  },
  {
   "cell_type": "code",
   "execution_count": 49,
   "id": "29906e93",
   "metadata": {},
   "outputs": [
    {
     "data": {
      "text/plain": [
       "0    3.62\n",
       "Name: bore, dtype: object"
      ]
     },
     "execution_count": 49,
     "metadata": {},
     "output_type": "execute_result"
    }
   ],
   "source": [
    "df1[\"bore\"].mode()"
   ]
  },
  {
   "cell_type": "code",
   "execution_count": 50,
   "id": "c8ea3bc0",
   "metadata": {},
   "outputs": [],
   "source": [
    "df1[\"bore\"].replace({\"?\":3.62}, inplace = True)"
   ]
  },
  {
   "cell_type": "code",
   "execution_count": 51,
   "id": "da96e041",
   "metadata": {},
   "outputs": [
    {
     "data": {
      "text/plain": [
       "array(['3.47', '2.68', '3.19', '3.13', '3.5', '3.31', '3.62', '2.91',\n",
       "       '3.03', '2.97', '3.34', '3.6', '2.92', '3.15', '3.43', '3.63',\n",
       "       '3.54', '3.08', 3.62, '3.39', '3.76', '3.58', '3.46', '3.8',\n",
       "       '3.78', '3.17', '3.35', '3.59', '2.99', '3.33', '3.7', '3.61',\n",
       "       '3.94', '3.74', '2.54', '3.05', '3.27', '3.24', '3.01'],\n",
       "      dtype=object)"
      ]
     },
     "execution_count": 51,
     "metadata": {},
     "output_type": "execute_result"
    }
   ],
   "source": [
    "df1[\"bore\"].unique()"
   ]
  },
  {
   "cell_type": "code",
   "execution_count": 52,
   "id": "3822d12d",
   "metadata": {},
   "outputs": [],
   "source": [
    "df1[\"bore\"] = df1[\"bore\"].astype(float)"
   ]
  },
  {
   "cell_type": "code",
   "execution_count": null,
   "id": "f8ba673b",
   "metadata": {},
   "outputs": [],
   "source": []
  },
  {
   "cell_type": "code",
   "execution_count": 53,
   "id": "33ec11a7",
   "metadata": {},
   "outputs": [
    {
     "data": {
      "text/plain": [
       "array(['2.68', '3.47', '3.4', '2.8', '3.19', '3.39', '3.03', '3.11',\n",
       "       '3.23', '3.46', '3.9', '3.41', '3.07', '3.58', '4.17', '2.76',\n",
       "       '3.15', '?', '3.16', '3.64', '3.1', '3.35', '3.12', '3.86', '3.29',\n",
       "       '3.27', '3.52', '2.19', '3.21', '2.9', '2.07', '2.36', '2.64',\n",
       "       '3.08', '3.5', '3.54', '2.87'], dtype=object)"
      ]
     },
     "execution_count": 53,
     "metadata": {},
     "output_type": "execute_result"
    }
   ],
   "source": [
    "df1[\"stroke\"].unique()"
   ]
  },
  {
   "cell_type": "code",
   "execution_count": 54,
   "id": "93c918fe",
   "metadata": {},
   "outputs": [],
   "source": [
    "df1[\"stroke\"].replace({\"?\":(df1[\"stroke\"].mode()[0])},inplace = True)"
   ]
  },
  {
   "cell_type": "code",
   "execution_count": 55,
   "id": "22181933",
   "metadata": {},
   "outputs": [],
   "source": [
    "df1[\"stroke\"] = df1[\"stroke\"].astype(float)"
   ]
  },
  {
   "cell_type": "code",
   "execution_count": 56,
   "id": "04a8b2d2",
   "metadata": {},
   "outputs": [
    {
     "data": {
      "text/plain": [
       "array([2.68, 3.47, 3.4 , 2.8 , 3.19, 3.39, 3.03, 3.11, 3.23, 3.46, 3.9 ,\n",
       "       3.41, 3.07, 3.58, 4.17, 2.76, 3.15, 3.16, 3.64, 3.1 , 3.35, 3.12,\n",
       "       3.86, 3.29, 3.27, 3.52, 2.19, 3.21, 2.9 , 2.07, 2.36, 2.64, 3.08,\n",
       "       3.5 , 3.54, 2.87])"
      ]
     },
     "execution_count": 56,
     "metadata": {},
     "output_type": "execute_result"
    }
   ],
   "source": [
    "df1[\"stroke\"].unique()"
   ]
  },
  {
   "cell_type": "code",
   "execution_count": null,
   "id": "603263fb",
   "metadata": {},
   "outputs": [],
   "source": []
  },
  {
   "cell_type": "code",
   "execution_count": 57,
   "id": "183cd512",
   "metadata": {},
   "outputs": [
    {
     "data": {
      "text/plain": [
       "array(['111', '154', '102', '115', '110', '140', '160', '101', '121',\n",
       "       '182', '48', '70', '68', '88', '145', '58', '76', '60', '86',\n",
       "       '100', '78', '90', '176', '262', '135', '84', '64', '120', '72',\n",
       "       '123', '155', '184', '175', '116', '69', '55', '97', '152', '200',\n",
       "       '95', '142', '143', '207', '288', '?', '73', '82', '94', '62',\n",
       "       '56', '112', '92', '161', '156', '52', '85', '114', '162', '134',\n",
       "       '106'], dtype=object)"
      ]
     },
     "execution_count": 57,
     "metadata": {},
     "output_type": "execute_result"
    }
   ],
   "source": [
    "df1[\"horsepower\"].unique()"
   ]
  },
  {
   "cell_type": "code",
   "execution_count": 58,
   "id": "0a70249a",
   "metadata": {},
   "outputs": [],
   "source": [
    "df1[\"horsepower\"].replace({\"?\":(df1[\"horsepower\"].mode()[0])},inplace = True)"
   ]
  },
  {
   "cell_type": "code",
   "execution_count": 59,
   "id": "71fdbdce",
   "metadata": {},
   "outputs": [],
   "source": [
    "df1[\"horsepower\"] = df1[\"horsepower\"].astype(float)"
   ]
  },
  {
   "cell_type": "code",
   "execution_count": 60,
   "id": "4855c63c",
   "metadata": {},
   "outputs": [
    {
     "data": {
      "text/plain": [
       "array([111., 154., 102., 115., 110., 140., 160., 101., 121., 182.,  48.,\n",
       "        70.,  68.,  88., 145.,  58.,  76.,  60.,  86., 100.,  78.,  90.,\n",
       "       176., 262., 135.,  84.,  64., 120.,  72., 123., 155., 184., 175.,\n",
       "       116.,  69.,  55.,  97., 152., 200.,  95., 142., 143., 207., 288.,\n",
       "        73.,  82.,  94.,  62.,  56., 112.,  92., 161., 156.,  52.,  85.,\n",
       "       114., 162., 134., 106.])"
      ]
     },
     "execution_count": 60,
     "metadata": {},
     "output_type": "execute_result"
    }
   ],
   "source": [
    "df1[\"horsepower\"].unique()"
   ]
  },
  {
   "cell_type": "code",
   "execution_count": null,
   "id": "6132144f",
   "metadata": {},
   "outputs": [],
   "source": []
  },
  {
   "cell_type": "code",
   "execution_count": 61,
   "id": "3bb380bf",
   "metadata": {},
   "outputs": [
    {
     "data": {
      "text/plain": [
       "array(['5000', '5500', '5800', '4250', '5400', '5100', '4800', '6000',\n",
       "       '4750', '4650', '4200', '4350', '4500', '5200', '4150', '5600',\n",
       "       '5900', '5750', '?', '5250', '4900', '4400', '6600', '5300'],\n",
       "      dtype=object)"
      ]
     },
     "execution_count": 61,
     "metadata": {},
     "output_type": "execute_result"
    }
   ],
   "source": [
    "df1[\"peak-rpm\"].unique()"
   ]
  },
  {
   "cell_type": "code",
   "execution_count": 62,
   "id": "e20a0e87",
   "metadata": {},
   "outputs": [],
   "source": [
    "df1[\"peak-rpm\"].replace({\"?\":(df1[\"peak-rpm\"].mode()[0])},inplace = True)"
   ]
  },
  {
   "cell_type": "code",
   "execution_count": 63,
   "id": "fa248e6e",
   "metadata": {},
   "outputs": [],
   "source": [
    "df1[\"peak-rpm\"] = df1[\"peak-rpm\"].astype(float)"
   ]
  },
  {
   "cell_type": "code",
   "execution_count": 64,
   "id": "304a591c",
   "metadata": {},
   "outputs": [
    {
     "data": {
      "text/plain": [
       "array([5000., 5500., 5800., 4250., 5400., 5100., 4800., 6000., 4750.,\n",
       "       4650., 4200., 4350., 4500., 5200., 4150., 5600., 5900., 5750.,\n",
       "       5250., 4900., 4400., 6600., 5300.])"
      ]
     },
     "execution_count": 64,
     "metadata": {},
     "output_type": "execute_result"
    }
   ],
   "source": [
    "df1[\"peak-rpm\"].unique()"
   ]
  },
  {
   "cell_type": "code",
   "execution_count": null,
   "id": "2ed2be14",
   "metadata": {},
   "outputs": [],
   "source": []
  },
  {
   "cell_type": "code",
   "execution_count": 65,
   "id": "cd098401",
   "metadata": {},
   "outputs": [
    {
     "data": {
      "text/plain": [
       "array(['13495', '16500', '13950', '17450', '15250', '17710', '18920',\n",
       "       '23875', '?', '16430', '16925', '20970', '21105', '24565', '30760',\n",
       "       '41315', '36880', '5151', '6295', '6575', '5572', '6377', '7957',\n",
       "       '6229', '6692', '7609', '8558', '8921', '12964', '6479', '6855',\n",
       "       '5399', '6529', '7129', '7295', '7895', '9095', '8845', '10295',\n",
       "       '12945', '10345', '6785', '11048', '32250', '35550', '36000',\n",
       "       '5195', '6095', '6795', '6695', '7395', '10945', '11845', '13645',\n",
       "       '15645', '8495', '10595', '10245', '10795', '11245', '18280',\n",
       "       '18344', '25552', '28248', '28176', '31600', '34184', '35056',\n",
       "       '40960', '45400', '16503', '5389', '6189', '6669', '7689', '9959',\n",
       "       '8499', '12629', '14869', '14489', '6989', '8189', '9279', '5499',\n",
       "       '7099', '6649', '6849', '7349', '7299', '7799', '7499', '7999',\n",
       "       '8249', '8949', '9549', '13499', '14399', '17199', '19699',\n",
       "       '18399', '11900', '13200', '12440', '13860', '15580', '16900',\n",
       "       '16695', '17075', '16630', '17950', '18150', '12764', '22018',\n",
       "       '32528', '34028', '37028', '9295', '9895', '11850', '12170',\n",
       "       '15040', '15510', '18620', '5118', '7053', '7603', '7126', '7775',\n",
       "       '9960', '9233', '11259', '7463', '10198', '8013', '11694', '5348',\n",
       "       '6338', '6488', '6918', '7898', '8778', '6938', '7198', '7788',\n",
       "       '7738', '8358', '9258', '8058', '8238', '9298', '9538', '8449',\n",
       "       '9639', '9989', '11199', '11549', '17669', '8948', '10698', '9988',\n",
       "       '10898', '11248', '16558', '15998', '15690', '15750', '7975',\n",
       "       '7995', '8195', '9495', '9995', '11595', '9980', '13295', '13845',\n",
       "       '12290', '12940', '13415', '15985', '16515', '18420', '18950',\n",
       "       '16845', '19045', '21485', '22470', '22625'], dtype=object)"
      ]
     },
     "execution_count": 65,
     "metadata": {},
     "output_type": "execute_result"
    }
   ],
   "source": [
    "df1[\"price\"].unique()"
   ]
  },
  {
   "cell_type": "code",
   "execution_count": 66,
   "id": "77d7dff2",
   "metadata": {},
   "outputs": [],
   "source": [
    "df1[\"price\"].replace({\"?\":np.nan},inplace = True)"
   ]
  },
  {
   "cell_type": "code",
   "execution_count": 67,
   "id": "bae0f633",
   "metadata": {},
   "outputs": [],
   "source": [
    "df1[\"price\"].replace({np.nan:(df1[\"price\"].median())},inplace = True)"
   ]
  },
  {
   "cell_type": "code",
   "execution_count": 68,
   "id": "f45c0154",
   "metadata": {},
   "outputs": [],
   "source": [
    "df1[\"price\"] = df1[\"price\"].astype(float)"
   ]
  },
  {
   "cell_type": "code",
   "execution_count": 69,
   "id": "625f139e",
   "metadata": {},
   "outputs": [
    {
     "data": {
      "text/plain": [
       "array([13495., 16500., 13950., 17450., 15250., 17710., 18920., 23875.,\n",
       "       10295., 16430., 16925., 20970., 21105., 24565., 30760., 41315.,\n",
       "       36880.,  5151.,  6295.,  6575.,  5572.,  6377.,  7957.,  6229.,\n",
       "        6692.,  7609.,  8558.,  8921., 12964.,  6479.,  6855.,  5399.,\n",
       "        6529.,  7129.,  7295.,  7895.,  9095.,  8845., 12945., 10345.,\n",
       "        6785., 11048., 32250., 35550., 36000.,  5195.,  6095.,  6795.,\n",
       "        6695.,  7395., 10945., 11845., 13645., 15645.,  8495., 10595.,\n",
       "       10245., 10795., 11245., 18280., 18344., 25552., 28248., 28176.,\n",
       "       31600., 34184., 35056., 40960., 45400., 16503.,  5389.,  6189.,\n",
       "        6669.,  7689.,  9959.,  8499., 12629., 14869., 14489.,  6989.,\n",
       "        8189.,  9279.,  5499.,  7099.,  6649.,  6849.,  7349.,  7299.,\n",
       "        7799.,  7499.,  7999.,  8249.,  8949.,  9549., 13499., 14399.,\n",
       "       17199., 19699., 18399., 11900., 13200., 12440., 13860., 15580.,\n",
       "       16900., 16695., 17075., 16630., 17950., 18150., 12764., 22018.,\n",
       "       32528., 34028., 37028.,  9295.,  9895., 11850., 12170., 15040.,\n",
       "       15510., 18620.,  5118.,  7053.,  7603.,  7126.,  7775.,  9960.,\n",
       "        9233., 11259.,  7463., 10198.,  8013., 11694.,  5348.,  6338.,\n",
       "        6488.,  6918.,  7898.,  8778.,  6938.,  7198.,  7788.,  7738.,\n",
       "        8358.,  9258.,  8058.,  8238.,  9298.,  9538.,  8449.,  9639.,\n",
       "        9989., 11199., 11549., 17669.,  8948., 10698.,  9988., 10898.,\n",
       "       11248., 16558., 15998., 15690., 15750.,  7975.,  7995.,  8195.,\n",
       "        9495.,  9995., 11595.,  9980., 13295., 13845., 12290., 12940.,\n",
       "       13415., 15985., 16515., 18420., 18950., 16845., 19045., 21485.,\n",
       "       22470., 22625.])"
      ]
     },
     "execution_count": 69,
     "metadata": {},
     "output_type": "execute_result"
    }
   ],
   "source": [
    "df1[\"price\"].unique()"
   ]
  },
  {
   "cell_type": "code",
   "execution_count": null,
   "id": "bd5688f1",
   "metadata": {},
   "outputs": [],
   "source": []
  },
  {
   "cell_type": "code",
   "execution_count": 70,
   "id": "06ee58fa",
   "metadata": {},
   "outputs": [
    {
     "name": "stdout",
     "output_type": "stream",
     "text": [
      "<class 'pandas.core.frame.DataFrame'>\n",
      "RangeIndex: 205 entries, 0 to 204\n",
      "Data columns (total 64 columns):\n",
      " #   Column                  Non-Null Count  Dtype  \n",
      "---  ------                  --------------  -----  \n",
      " 0   symboling               205 non-null    int64  \n",
      " 1   normalized-losses       205 non-null    float64\n",
      " 2   fuel-type               205 non-null    int64  \n",
      " 3   aspiration              205 non-null    int64  \n",
      " 4   num-of-doors            205 non-null    int64  \n",
      " 5   drive-wheels            205 non-null    int64  \n",
      " 6   engine-location         205 non-null    int64  \n",
      " 7   wheel-base              205 non-null    float64\n",
      " 8   length                  205 non-null    float64\n",
      " 9   width                   205 non-null    float64\n",
      " 10  height                  205 non-null    float64\n",
      " 11  curb-weight             205 non-null    int64  \n",
      " 12  num-of-cylinders        205 non-null    int64  \n",
      " 13  engine-size             205 non-null    int64  \n",
      " 14  bore                    205 non-null    float64\n",
      " 15  stroke                  205 non-null    float64\n",
      " 16  compression-ratio       205 non-null    float64\n",
      " 17  horsepower              205 non-null    float64\n",
      " 18  peak-rpm                205 non-null    float64\n",
      " 19  city-mpg                205 non-null    int64  \n",
      " 20  highway-mpg             205 non-null    int64  \n",
      " 21  price                   205 non-null    float64\n",
      " 22  make_alfa-romero        205 non-null    uint8  \n",
      " 23  make_audi               205 non-null    uint8  \n",
      " 24  make_bmw                205 non-null    uint8  \n",
      " 25  make_chevrolet          205 non-null    uint8  \n",
      " 26  make_dodge              205 non-null    uint8  \n",
      " 27  make_honda              205 non-null    uint8  \n",
      " 28  make_isuzu              205 non-null    uint8  \n",
      " 29  make_jaguar             205 non-null    uint8  \n",
      " 30  make_mazda              205 non-null    uint8  \n",
      " 31  make_mercedes-benz      205 non-null    uint8  \n",
      " 32  make_mercury            205 non-null    uint8  \n",
      " 33  make_mitsubishi         205 non-null    uint8  \n",
      " 34  make_nissan             205 non-null    uint8  \n",
      " 35  make_peugot             205 non-null    uint8  \n",
      " 36  make_plymouth           205 non-null    uint8  \n",
      " 37  make_porsche            205 non-null    uint8  \n",
      " 38  make_renault            205 non-null    uint8  \n",
      " 39  make_saab               205 non-null    uint8  \n",
      " 40  make_subaru             205 non-null    uint8  \n",
      " 41  make_toyota             205 non-null    uint8  \n",
      " 42  make_volkswagen         205 non-null    uint8  \n",
      " 43  make_volvo              205 non-null    uint8  \n",
      " 44  body-style_convertible  205 non-null    uint8  \n",
      " 45  body-style_hardtop      205 non-null    uint8  \n",
      " 46  body-style_hatchback    205 non-null    uint8  \n",
      " 47  body-style_sedan        205 non-null    uint8  \n",
      " 48  body-style_wagon        205 non-null    uint8  \n",
      " 49  engine-type_dohc        205 non-null    uint8  \n",
      " 50  engine-type_dohcv       205 non-null    uint8  \n",
      " 51  engine-type_l           205 non-null    uint8  \n",
      " 52  engine-type_ohc         205 non-null    uint8  \n",
      " 53  engine-type_ohcf        205 non-null    uint8  \n",
      " 54  engine-type_ohcv        205 non-null    uint8  \n",
      " 55  engine-type_rotor       205 non-null    uint8  \n",
      " 56  fuel-system_1bbl        205 non-null    uint8  \n",
      " 57  fuel-system_2bbl        205 non-null    uint8  \n",
      " 58  fuel-system_4bbl        205 non-null    uint8  \n",
      " 59  fuel-system_idi         205 non-null    uint8  \n",
      " 60  fuel-system_mfi         205 non-null    uint8  \n",
      " 61  fuel-system_mpfi        205 non-null    uint8  \n",
      " 62  fuel-system_spdi        205 non-null    uint8  \n",
      " 63  fuel-system_spfi        205 non-null    uint8  \n",
      "dtypes: float64(11), int64(11), uint8(42)\n",
      "memory usage: 43.8 KB\n"
     ]
    }
   ],
   "source": [
    "df1.info()"
   ]
  },
  {
   "cell_type": "code",
   "execution_count": 71,
   "id": "262d8764",
   "metadata": {},
   "outputs": [],
   "source": [
    "from sklearn.model_selection import train_test_split\n",
    "from sklearn.linear_model import LinearRegression\n",
    "from sklearn.metrics import r2_score, mean_squared_error,mean_absolute_error"
   ]
  },
  {
   "cell_type": "code",
   "execution_count": 72,
   "id": "17ef9012",
   "metadata": {},
   "outputs": [],
   "source": [
    "x = df1.drop([\"price\"], axis = 1)\n",
    "y = df1[\"price\"]"
   ]
  },
  {
   "cell_type": "code",
   "execution_count": 73,
   "id": "b0762e5c",
   "metadata": {},
   "outputs": [],
   "source": [
    "x_train , x_test , y_train , y_test = train_test_split(x,y,train_size=0.8 , random_state=0)"
   ]
  },
  {
   "cell_type": "code",
   "execution_count": 74,
   "id": "8f86bf53",
   "metadata": {},
   "outputs": [
    {
     "data": {
      "text/plain": [
       "LinearRegression()"
      ]
     },
     "execution_count": 74,
     "metadata": {},
     "output_type": "execute_result"
    }
   ],
   "source": [
    "model = LinearRegression()\n",
    "model.fit(x_train,y_train)"
   ]
  },
  {
   "cell_type": "code",
   "execution_count": 75,
   "id": "96a583b2",
   "metadata": {},
   "outputs": [
    {
     "name": "stdout",
     "output_type": "stream",
     "text": [
      "Mean Sqaured Error : 1874654.186395885\n",
      "Root Mean Sqaured Error : 1369.1801146656655\n",
      "Mean Absolute Error : 1057.6001691091687\n",
      "R Squared Value : 0.968733170799266\n",
      "Adjusted R Squared Value : 0.9490350684028036\n"
     ]
    }
   ],
   "source": [
    "# Model Evaluation for Training Data\n",
    "\n",
    "y_pred_train = model.predict(x_train)\n",
    "\n",
    "mse = mean_squared_error(y_train, y_pred_train)\n",
    "print(\"Mean Sqaured Error :\",mse)\n",
    "\n",
    "rmse = np.sqrt(mse)\n",
    "print(\"Root Mean Sqaured Error :\",rmse)\n",
    "\n",
    "mae = mean_absolute_error(y_train, y_pred_train)\n",
    "print(\"Mean Absolute Error :\",mae)\n",
    "\n",
    "r_squared_value = r2_score(y_train, y_pred_train)\n",
    "print(\"R Squared Value :\",r_squared_value)\n",
    "adj_r2  = 1 - (((1 - r_squared_value) * (x_train.shape[0] - 1)) / (x_train.shape[0] - x_train.shape[1] - 1))\n",
    "print(\"Adjusted R Squared Value :\",adj_r2)"
   ]
  },
  {
   "cell_type": "code",
   "execution_count": 76,
   "id": "b7f91041",
   "metadata": {},
   "outputs": [
    {
     "name": "stdout",
     "output_type": "stream",
     "text": [
      "Mean Sqaured Error : 23431896.756733388\n",
      "Root Mean Sqaured Error : 4840.650447691239\n",
      "Mean Absolute Error : 2546.085135694458\n",
      "R Squared Value : 0.6595546869511507\n",
      "Adjusted R Squared Value : 0.4450741397303757\n"
     ]
    }
   ],
   "source": [
    "# Model Evaluation for Testing Data\n",
    "y_pred = model.predict(x_test)\n",
    "\n",
    "mse = mean_squared_error(y_test, y_pred)\n",
    "print(\"Mean Sqaured Error :\",mse)\n",
    "\n",
    "rmse = np.sqrt(mse)\n",
    "print(\"Root Mean Sqaured Error :\",rmse)\n",
    "\n",
    "mae = mean_absolute_error(y_test, y_pred)\n",
    "print(\"Mean Absolute Error :\",mae)\n",
    "\n",
    "r_squared_value = r2_score(y_test, y_pred)\n",
    "print(\"R Squared Value :\",r_squared_value)\n",
    "\n",
    "adj_r2  = 1 - (((1 - r_squared_value) * (x_train.shape[0] - 1)) / (x_train.shape[0] - x_train.shape[1] - 1))\n",
    "print(\"Adjusted R Squared Value :\",adj_r2)"
   ]
  },
  {
   "cell_type": "code",
   "execution_count": 77,
   "id": "98aad3af",
   "metadata": {},
   "outputs": [],
   "source": [
    "# MAE > RMSE ------> outlier is present\n",
    "# training accuracy is high and testing accuracy is low -----> model overfit"
   ]
  },
  {
   "cell_type": "code",
   "execution_count": null,
   "id": "5a1eea9f",
   "metadata": {},
   "outputs": [],
   "source": []
  },
  {
   "cell_type": "markdown",
   "id": "22636519",
   "metadata": {},
   "source": [
    "# feature engg"
   ]
  },
  {
   "cell_type": "markdown",
   "id": "7f796886",
   "metadata": {},
   "source": [
    "## check outliers and impute it"
   ]
  },
  {
   "cell_type": "code",
   "execution_count": 78,
   "id": "48a6adbe",
   "metadata": {},
   "outputs": [
    {
     "data": {
      "text/plain": [
       "<AxesSubplot:>"
      ]
     },
     "execution_count": 78,
     "metadata": {},
     "output_type": "execute_result"
    },
    {
     "data": {
      "image/png": "[encoded data removed]",
      "text/plain": [
       "<Figure size 9000x1000 with 1 Axes>"
      ]
     },
     "metadata": {},
     "output_type": "display_data"
    }
   ],
   "source": [
    "plt.figure(figsize=(90,10))\n",
    "df1.boxplot()"
   ]
  },
  {
   "cell_type": "code",
   "execution_count": 79,
   "id": "2bc745be",
   "metadata": {},
   "outputs": [
    {
     "data": {
      "text/plain": [
       "<AxesSubplot:xlabel='normalized-losses'>"
      ]
     },
     "execution_count": 79,
     "metadata": {},
     "output_type": "execute_result"
    },
    {
     "data": {
      "image/png": "[encoded data removed]",
      "text/plain": [
       "<Figure size 640x480 with 1 Axes>"
      ]
     },
     "metadata": {},
     "output_type": "display_data"
    }
   ],
   "source": [
    "sns.boxplot(x = df1[\"normalized-losses\"])"
   ]
  },
  {
   "cell_type": "code",
   "execution_count": 80,
   "id": "a7fd0eb0",
   "metadata": {},
   "outputs": [
    {
     "name": "stdout",
     "output_type": "stream",
     "text": [
      "191.0\n",
      "47.0\n"
     ]
    }
   ],
   "source": [
    "q1 = df1[\"normalized-losses\"].quantile(0.25)\n",
    "q3 = df1[\"normalized-losses\"].quantile(0.75)\n",
    "\n",
    "IQR = q3 - q1\n",
    "\n",
    "upper_tail = q3 + 1.5 * IQR\n",
    "lower_tail = q1 - 1.5 * IQR\n",
    "\n",
    "print(upper_tail)\n",
    "print(lower_tail)\n"
   ]
  },
  {
   "cell_type": "code",
   "execution_count": 81,
   "id": "5a3de6e6",
   "metadata": {},
   "outputs": [
    {
     "data": {
      "text/plain": [
       "10     192.0\n",
       "11     192.0\n",
       "104    194.0\n",
       "105    194.0\n",
       "106    231.0\n",
       "178    197.0\n",
       "179    197.0\n",
       "190    256.0\n",
       "Name: normalized-losses, dtype: float64"
      ]
     },
     "execution_count": 81,
     "metadata": {},
     "output_type": "execute_result"
    }
   ],
   "source": [
    "df1[\"normalized-losses\"].loc[df1[\"normalized-losses\"] > upper_tail]"
   ]
  },
  {
   "cell_type": "code",
   "execution_count": 82,
   "id": "0d7b4342",
   "metadata": {},
   "outputs": [],
   "source": [
    "df1[\"normalized-losses\"].loc[(df1[\"normalized-losses\"] > upper_tail)] = upper_tail"
   ]
  },
  {
   "cell_type": "code",
   "execution_count": 83,
   "id": "96d91a28",
   "metadata": {},
   "outputs": [
    {
     "data": {
      "text/plain": [
       "Series([], Name: normalized-losses, dtype: float64)"
      ]
     },
     "execution_count": 83,
     "metadata": {},
     "output_type": "execute_result"
    }
   ],
   "source": [
    "df1[\"normalized-losses\"].loc[df1[\"normalized-losses\"] > upper_tail]"
   ]
  },
  {
   "cell_type": "code",
   "execution_count": 84,
   "id": "c1df81fc",
   "metadata": {},
   "outputs": [
    {
     "data": {
      "text/plain": [
       "Series([], Name: normalized-losses, dtype: float64)"
      ]
     },
     "execution_count": 84,
     "metadata": {},
     "output_type": "execute_result"
    }
   ],
   "source": [
    "df1[\"normalized-losses\"].loc[df1[\"normalized-losses\"] < lower_tail]"
   ]
  },
  {
   "cell_type": "code",
   "execution_count": 85,
   "id": "481131db",
   "metadata": {},
   "outputs": [
    {
     "name": "stdout",
     "output_type": "stream",
     "text": [
      "114.25000000000001\n",
      "82.64999999999999\n"
     ]
    }
   ],
   "source": [
    "q1 = df1[\"wheel-base\"].quantile(0.25)\n",
    "q3 = df1[\"wheel-base\"].quantile(0.75)\n",
    "\n",
    "IQR = q3 - q1\n",
    "\n",
    "upper_tail = q3 + 1.5 * IQR\n",
    "lower_tail = q1 - 1.5 * IQR\n",
    "\n",
    "print(upper_tail)\n",
    "print(lower_tail)\n"
   ]
  },
  {
   "cell_type": "code",
   "execution_count": 86,
   "id": "692a4c93",
   "metadata": {},
   "outputs": [
    {
     "data": {
      "text/plain": [
       "70    115.6\n",
       "71    115.6\n",
       "73    120.9\n",
       "Name: wheel-base, dtype: float64"
      ]
     },
     "execution_count": 86,
     "metadata": {},
     "output_type": "execute_result"
    }
   ],
   "source": [
    "df1[\"wheel-base\"].loc[df1[\"wheel-base\"] > upper_tail]"
   ]
  },
  {
   "cell_type": "code",
   "execution_count": 87,
   "id": "c78b23d5",
   "metadata": {},
   "outputs": [],
   "source": [
    "df1[\"wheel-base\"].loc[df1[\"wheel-base\"] > upper_tail] = upper_tail"
   ]
  },
  {
   "cell_type": "code",
   "execution_count": 88,
   "id": "6c8b5678",
   "metadata": {},
   "outputs": [
    {
     "data": {
      "text/plain": [
       "Series([], Name: wheel-base, dtype: float64)"
      ]
     },
     "execution_count": 88,
     "metadata": {},
     "output_type": "execute_result"
    }
   ],
   "source": [
    "df1[\"wheel-base\"].loc[df1[\"wheel-base\"] > upper_tail]"
   ]
  },
  {
   "cell_type": "code",
   "execution_count": 89,
   "id": "534b7c70",
   "metadata": {},
   "outputs": [
    {
     "data": {
      "text/plain": [
       "Series([], Name: wheel-base, dtype: float64)"
      ]
     },
     "execution_count": 89,
     "metadata": {},
     "output_type": "execute_result"
    }
   ],
   "source": [
    "df1[\"wheel-base\"].loc[df1[\"wheel-base\"] < lower_tail]"
   ]
  },
  {
   "cell_type": "code",
   "execution_count": null,
   "id": "a2bded2f",
   "metadata": {},
   "outputs": [],
   "source": []
  },
  {
   "cell_type": "code",
   "execution_count": 90,
   "id": "d684f116",
   "metadata": {},
   "outputs": [
    {
     "name": "stdout",
     "output_type": "stream",
     "text": [
      "208.29999999999995\n",
      "141.10000000000002\n"
     ]
    }
   ],
   "source": [
    "q1 = df1[\"length\"].quantile(0.25)\n",
    "q3 = df1[\"length\"].quantile(0.75)\n",
    "\n",
    "IQR = q3 - q1\n",
    "\n",
    "upper_tail = q3 + 1.5 * IQR\n",
    "lower_tail = q1 - 1.5 * IQR\n",
    "\n",
    "print(upper_tail)\n",
    "print(lower_tail)\n"
   ]
  },
  {
   "cell_type": "code",
   "execution_count": 91,
   "id": "fe04164a",
   "metadata": {},
   "outputs": [
    {
     "data": {
      "text/plain": [
       "Series([], Name: length, dtype: float64)"
      ]
     },
     "execution_count": 91,
     "metadata": {},
     "output_type": "execute_result"
    }
   ],
   "source": [
    "df1[\"length\"].loc[df1[\"length\"] > upper_tail]"
   ]
  },
  {
   "cell_type": "code",
   "execution_count": 92,
   "id": "a7879b1a",
   "metadata": {},
   "outputs": [],
   "source": [
    "df1[\"length\"].loc[df1[\"length\"] > upper_tail] = upper_tail"
   ]
  },
  {
   "cell_type": "code",
   "execution_count": 93,
   "id": "2e12400a",
   "metadata": {},
   "outputs": [
    {
     "data": {
      "text/plain": [
       "Series([], Name: length, dtype: float64)"
      ]
     },
     "execution_count": 93,
     "metadata": {},
     "output_type": "execute_result"
    }
   ],
   "source": [
    "df1[\"length\"].loc[df1[\"length\"] > upper_tail]"
   ]
  },
  {
   "cell_type": "code",
   "execution_count": 94,
   "id": "e15b0acc",
   "metadata": {},
   "outputs": [
    {
     "data": {
      "text/plain": [
       "18    141.1\n",
       "Name: length, dtype: float64"
      ]
     },
     "execution_count": 94,
     "metadata": {},
     "output_type": "execute_result"
    }
   ],
   "source": [
    "df1[\"length\"].loc[df1[\"length\"] < lower_tail]"
   ]
  },
  {
   "cell_type": "code",
   "execution_count": null,
   "id": "4dead790",
   "metadata": {},
   "outputs": [],
   "source": []
  },
  {
   "cell_type": "code",
   "execution_count": 95,
   "id": "15a69758",
   "metadata": {},
   "outputs": [
    {
     "name": "stdout",
     "output_type": "stream",
     "text": [
      "71.10000000000002\n",
      "59.89999999999998\n"
     ]
    }
   ],
   "source": [
    "q1 = df1[\"width\"].quantile(0.25)\n",
    "q3 = df1[\"width\"].quantile(0.75)\n",
    "\n",
    "IQR = q3 - q1\n",
    "\n",
    "upper_tail = q3 + 1.5 * IQR\n",
    "lower_tail = q1 - 1.5 * IQR\n",
    "\n",
    "print(upper_tail)\n",
    "print(lower_tail)"
   ]
  },
  {
   "cell_type": "code",
   "execution_count": 96,
   "id": "84ea970c",
   "metadata": {},
   "outputs": [
    {
     "data": {
      "text/plain": [
       "6      71.4\n",
       "7      71.4\n",
       "8      71.4\n",
       "70     71.7\n",
       "71     71.7\n",
       "73     71.7\n",
       "74     72.0\n",
       "129    72.3\n",
       "Name: width, dtype: float64"
      ]
     },
     "execution_count": 96,
     "metadata": {},
     "output_type": "execute_result"
    }
   ],
   "source": [
    "df1[\"width\"].loc[df1[\"width\"] > upper_tail]"
   ]
  },
  {
   "cell_type": "code",
   "execution_count": 97,
   "id": "84832cd7",
   "metadata": {},
   "outputs": [],
   "source": [
    "df1[\"width\"].loc[df1[\"width\"] > upper_tail] = upper_tail"
   ]
  },
  {
   "cell_type": "code",
   "execution_count": 98,
   "id": "4f247683",
   "metadata": {},
   "outputs": [
    {
     "data": {
      "text/plain": [
       "Series([], Name: width, dtype: float64)"
      ]
     },
     "execution_count": 98,
     "metadata": {},
     "output_type": "execute_result"
    }
   ],
   "source": [
    "df1[\"width\"].loc[df1[\"width\"] > upper_tail]"
   ]
  },
  {
   "cell_type": "code",
   "execution_count": 99,
   "id": "ff62bc28",
   "metadata": {},
   "outputs": [
    {
     "data": {
      "text/plain": [
       "Series([], Name: width, dtype: float64)"
      ]
     },
     "execution_count": 99,
     "metadata": {},
     "output_type": "execute_result"
    }
   ],
   "source": [
    "df1[\"width\"].loc[df1[\"width\"] < lower_tail] "
   ]
  },
  {
   "cell_type": "code",
   "execution_count": null,
   "id": "384cae7c",
   "metadata": {},
   "outputs": [],
   "source": []
  },
  {
   "cell_type": "code",
   "execution_count": 100,
   "id": "eaa87abd",
   "metadata": {},
   "outputs": [
    {
     "name": "stdout",
     "output_type": "stream",
     "text": [
      "207.0\n",
      "31.0\n"
     ]
    }
   ],
   "source": [
    "q1 = df1[\"engine-size\"].quantile(0.25)\n",
    "q3 = df1[\"engine-size\"].quantile(0.75)\n",
    "\n",
    "IQR = q3 - q1\n",
    "\n",
    "upper_tail = q3 + 1.5 * IQR\n",
    "lower_tail = q1 - 1.5 * IQR\n",
    "\n",
    "print(upper_tail)\n",
    "print(lower_tail)\n"
   ]
  },
  {
   "cell_type": "code",
   "execution_count": 101,
   "id": "b8447f85",
   "metadata": {},
   "outputs": [
    {
     "data": {
      "text/plain": [
       "15    209\n",
       "16    209\n",
       "17    209\n",
       "47    258\n",
       "48    258\n",
       "49    326\n",
       "71    234\n",
       "72    234\n",
       "73    308\n",
       "74    304\n",
       "Name: engine-size, dtype: int64"
      ]
     },
     "execution_count": 101,
     "metadata": {},
     "output_type": "execute_result"
    }
   ],
   "source": [
    "df1[\"engine-size\"].loc[df1[\"engine-size\"] > upper_tail]"
   ]
  },
  {
   "cell_type": "code",
   "execution_count": 102,
   "id": "83002305",
   "metadata": {},
   "outputs": [],
   "source": [
    "df1[\"engine-size\"].loc[df1[\"engine-size\"] > upper_tail] = upper_tail"
   ]
  },
  {
   "cell_type": "code",
   "execution_count": 103,
   "id": "bdf8e3b3",
   "metadata": {},
   "outputs": [
    {
     "data": {
      "text/plain": [
       "Series([], Name: engine-size, dtype: int64)"
      ]
     },
     "execution_count": 103,
     "metadata": {},
     "output_type": "execute_result"
    }
   ],
   "source": [
    "df1[\"engine-size\"].loc[df1[\"engine-size\"] > upper_tail]"
   ]
  },
  {
   "cell_type": "code",
   "execution_count": 104,
   "id": "b9f99ebb",
   "metadata": {},
   "outputs": [
    {
     "data": {
      "text/plain": [
       "Series([], Name: engine-size, dtype: int64)"
      ]
     },
     "execution_count": 104,
     "metadata": {},
     "output_type": "execute_result"
    }
   ],
   "source": [
    "df1[\"engine-size\"].loc[df1[\"engine-size\"] < lower_tail]"
   ]
  },
  {
   "cell_type": "code",
   "execution_count": null,
   "id": "53d50bb1",
   "metadata": {},
   "outputs": [],
   "source": []
  },
  {
   "cell_type": "code",
   "execution_count": 105,
   "id": "7a27b259",
   "metadata": {},
   "outputs": [
    {
     "name": "stdout",
     "output_type": "stream",
     "text": [
      "10.600000000000001\n",
      "7.399999999999999\n"
     ]
    }
   ],
   "source": [
    "q1 = df1[\"compression-ratio\"].quantile(0.25)\n",
    "q3 = df1[\"compression-ratio\"].quantile(0.75)\n",
    "\n",
    "IQR = q3 - q1\n",
    "\n",
    "upper_tail = q3 + 1.5 * IQR\n",
    "lower_tail = q1 - 1.5 * IQR\n",
    "\n",
    "print(upper_tail)\n",
    "print(lower_tail)\n"
   ]
  },
  {
   "cell_type": "code",
   "execution_count": 106,
   "id": "9332c514",
   "metadata": {},
   "outputs": [
    {
     "data": {
      "text/plain": [
       "49     11.5\n",
       "63     22.7\n",
       "66     22.0\n",
       "67     21.5\n",
       "68     21.5\n",
       "69     21.5\n",
       "70     21.5\n",
       "90     21.9\n",
       "108    21.0\n",
       "110    21.0\n",
       "112    21.0\n",
       "114    21.0\n",
       "116    21.0\n",
       "158    22.5\n",
       "159    22.5\n",
       "174    22.5\n",
       "182    23.0\n",
       "184    23.0\n",
       "187    23.0\n",
       "192    23.0\n",
       "203    23.0\n",
       "Name: compression-ratio, dtype: float64"
      ]
     },
     "execution_count": 106,
     "metadata": {},
     "output_type": "execute_result"
    }
   ],
   "source": [
    "df1[\"compression-ratio\"].loc[df1[\"compression-ratio\"] > upper_tail]"
   ]
  },
  {
   "cell_type": "code",
   "execution_count": 107,
   "id": "33f3eb4a",
   "metadata": {},
   "outputs": [],
   "source": [
    "df1[\"compression-ratio\"].loc[df1[\"compression-ratio\"] > upper_tail] = upper_tail"
   ]
  },
  {
   "cell_type": "code",
   "execution_count": 108,
   "id": "d75ffd9a",
   "metadata": {},
   "outputs": [
    {
     "data": {
      "text/plain": [
       "Series([], Name: compression-ratio, dtype: float64)"
      ]
     },
     "execution_count": 108,
     "metadata": {},
     "output_type": "execute_result"
    }
   ],
   "source": [
    "df1[\"compression-ratio\"].loc[df1[\"compression-ratio\"] > upper_tail]"
   ]
  },
  {
   "cell_type": "code",
   "execution_count": 109,
   "id": "287db696",
   "metadata": {},
   "outputs": [
    {
     "data": {
      "text/plain": [
       "9      7.0\n",
       "29     7.0\n",
       "82     7.0\n",
       "83     7.0\n",
       "84     7.0\n",
       "117    7.0\n",
       "124    7.0\n",
       "Name: compression-ratio, dtype: float64"
      ]
     },
     "execution_count": 109,
     "metadata": {},
     "output_type": "execute_result"
    }
   ],
   "source": [
    "df1[\"compression-ratio\"].loc[df1[\"compression-ratio\"] < lower_tail]"
   ]
  },
  {
   "cell_type": "code",
   "execution_count": 110,
   "id": "35f03f58",
   "metadata": {},
   "outputs": [],
   "source": [
    "df1[\"compression-ratio\"].loc[df1[\"compression-ratio\"] < lower_tail] = lower_tail"
   ]
  },
  {
   "cell_type": "code",
   "execution_count": 111,
   "id": "201e81f2",
   "metadata": {},
   "outputs": [
    {
     "data": {
      "text/plain": [
       "Series([], Name: compression-ratio, dtype: float64)"
      ]
     },
     "execution_count": 111,
     "metadata": {},
     "output_type": "execute_result"
    }
   ],
   "source": [
    "df1[\"compression-ratio\"].loc[df1[\"compression-ratio\"] < lower_tail]"
   ]
  },
  {
   "cell_type": "code",
   "execution_count": null,
   "id": "b6a11c21",
   "metadata": {},
   "outputs": [],
   "source": []
  },
  {
   "cell_type": "code",
   "execution_count": 112,
   "id": "1d2cbdf7",
   "metadata": {},
   "outputs": [
    {
     "name": "stdout",
     "output_type": "stream",
     "text": [
      "3.8600000000000003\n",
      "2.6599999999999993\n"
     ]
    }
   ],
   "source": [
    "q1 = df1[\"stroke\"].quantile(0.25)\n",
    "q3 = df1[\"stroke\"].quantile(0.75)\n",
    "\n",
    "IQR = q3 - q1\n",
    "\n",
    "upper_tail = q3 + 1.5 * IQR\n",
    "lower_tail = q1 - 1.5 * IQR\n",
    "\n",
    "print(upper_tail)\n",
    "print(lower_tail)\n"
   ]
  },
  {
   "cell_type": "code",
   "execution_count": 113,
   "id": "4ba714ed",
   "metadata": {},
   "outputs": [
    {
     "data": {
      "text/plain": [
       "29     3.90\n",
       "47     4.17\n",
       "48     4.17\n",
       "130    3.90\n",
       "131    3.90\n",
       "Name: stroke, dtype: float64"
      ]
     },
     "execution_count": 113,
     "metadata": {},
     "output_type": "execute_result"
    }
   ],
   "source": [
    "df1[\"stroke\"].loc[df1[\"stroke\"] > upper_tail]"
   ]
  },
  {
   "cell_type": "code",
   "execution_count": 114,
   "id": "3aeba3af",
   "metadata": {},
   "outputs": [
    {
     "data": {
      "text/plain": [
       "111    2.19\n",
       "113    2.19\n",
       "134    2.07\n",
       "138    2.36\n",
       "139    2.64\n",
       "140    2.64\n",
       "141    2.64\n",
       "142    2.64\n",
       "143    2.64\n",
       "144    2.64\n",
       "145    2.64\n",
       "146    2.64\n",
       "147    2.64\n",
       "148    2.64\n",
       "149    2.64\n",
       "Name: stroke, dtype: float64"
      ]
     },
     "execution_count": 114,
     "metadata": {},
     "output_type": "execute_result"
    }
   ],
   "source": [
    "df1[\"stroke\"].loc[df1[\"stroke\"] <  lower_tail]"
   ]
  },
  {
   "cell_type": "code",
   "execution_count": null,
   "id": "1e1f57c0",
   "metadata": {},
   "outputs": [],
   "source": []
  },
  {
   "cell_type": "code",
   "execution_count": 115,
   "id": "425934a4",
   "metadata": {},
   "outputs": [
    {
     "name": "stdout",
     "output_type": "stream",
     "text": [
      "185.0\n",
      "1.0\n"
     ]
    }
   ],
   "source": [
    "q1 = df1[\"horsepower\"].quantile(0.25)\n",
    "q3 = df1[\"horsepower\"].quantile(0.75)\n",
    "\n",
    "IQR = q3 - q1\n",
    "\n",
    "upper_tail = q3 + 1.5 * IQR\n",
    "lower_tail = q1 - 1.5 * IQR\n",
    "\n",
    "print(upper_tail)\n",
    "print(lower_tail)"
   ]
  },
  {
   "cell_type": "code",
   "execution_count": 116,
   "id": "8663076e",
   "metadata": {},
   "outputs": [
    {
     "data": {
      "text/plain": [
       "49     262.0\n",
       "105    200.0\n",
       "126    207.0\n",
       "127    207.0\n",
       "128    207.0\n",
       "129    288.0\n",
       "Name: horsepower, dtype: float64"
      ]
     },
     "execution_count": 116,
     "metadata": {},
     "output_type": "execute_result"
    }
   ],
   "source": [
    "df1[\"horsepower\"].loc[df1[\"horsepower\"] > upper_tail] "
   ]
  },
  {
   "cell_type": "code",
   "execution_count": 117,
   "id": "1335e1ab",
   "metadata": {},
   "outputs": [],
   "source": [
    "df1[\"horsepower\"].loc[df1[\"horsepower\"] > upper_tail] = upper_tail"
   ]
  },
  {
   "cell_type": "code",
   "execution_count": 118,
   "id": "679b1714",
   "metadata": {},
   "outputs": [
    {
     "data": {
      "text/plain": [
       "Series([], Name: horsepower, dtype: float64)"
      ]
     },
     "execution_count": 118,
     "metadata": {},
     "output_type": "execute_result"
    }
   ],
   "source": [
    "df1[\"horsepower\"].loc[df1[\"horsepower\"] > upper_tail] "
   ]
  },
  {
   "cell_type": "code",
   "execution_count": 119,
   "id": "30094f40",
   "metadata": {},
   "outputs": [
    {
     "data": {
      "text/plain": [
       "Series([], Name: horsepower, dtype: float64)"
      ]
     },
     "execution_count": 119,
     "metadata": {},
     "output_type": "execute_result"
    }
   ],
   "source": [
    "df1[\"horsepower\"].loc[df1[\"horsepower\"] < lower_tail] "
   ]
  },
  {
   "cell_type": "code",
   "execution_count": null,
   "id": "94fdab7b",
   "metadata": {},
   "outputs": [],
   "source": []
  },
  {
   "cell_type": "code",
   "execution_count": 120,
   "id": "f61d531b",
   "metadata": {},
   "outputs": [
    {
     "name": "stdout",
     "output_type": "stream",
     "text": [
      "6550.0\n",
      "3750.0\n"
     ]
    }
   ],
   "source": [
    "q1 = df1[\"peak-rpm\"].quantile(0.25)\n",
    "q3 = df1[\"peak-rpm\"].quantile(0.75)\n",
    "\n",
    "IQR = q3 - q1\n",
    "\n",
    "upper_tail = q3 + 1.5 * IQR\n",
    "lower_tail = q1 - 1.5 * IQR\n",
    "\n",
    "print(upper_tail)\n",
    "print(lower_tail)"
   ]
  },
  {
   "cell_type": "code",
   "execution_count": 121,
   "id": "4d7d4e25",
   "metadata": {},
   "outputs": [
    {
     "data": {
      "text/plain": [
       "Series([], Name: horsepower, dtype: float64)"
      ]
     },
     "execution_count": 121,
     "metadata": {},
     "output_type": "execute_result"
    }
   ],
   "source": [
    "df1[\"horsepower\"].loc[df1[\"horsepower\"] > upper_tail] "
   ]
  },
  {
   "cell_type": "code",
   "execution_count": 122,
   "id": "c2805b64",
   "metadata": {},
   "outputs": [
    {
     "data": {
      "text/plain": [
       "0      111.0\n",
       "1      111.0\n",
       "2      154.0\n",
       "3      102.0\n",
       "4      115.0\n",
       "       ...  \n",
       "200    114.0\n",
       "201    160.0\n",
       "202    134.0\n",
       "203    106.0\n",
       "204    114.0\n",
       "Name: horsepower, Length: 205, dtype: float64"
      ]
     },
     "execution_count": 122,
     "metadata": {},
     "output_type": "execute_result"
    }
   ],
   "source": [
    "df1[\"horsepower\"].loc[df1[\"horsepower\"] < lower_tail] "
   ]
  },
  {
   "cell_type": "code",
   "execution_count": 123,
   "id": "52d94dc4",
   "metadata": {},
   "outputs": [],
   "source": [
    "df1[\"horsepower\"].loc[df1[\"horsepower\"] < lower_tail] = lower_tail"
   ]
  },
  {
   "cell_type": "code",
   "execution_count": 124,
   "id": "0a28d1eb",
   "metadata": {},
   "outputs": [
    {
     "data": {
      "text/plain": [
       "Series([], Name: horsepower, dtype: float64)"
      ]
     },
     "execution_count": 124,
     "metadata": {},
     "output_type": "execute_result"
    }
   ],
   "source": [
    "df1[\"horsepower\"].loc[df1[\"horsepower\"] < lower_tail]"
   ]
  },
  {
   "cell_type": "code",
   "execution_count": null,
   "id": "1002b194",
   "metadata": {},
   "outputs": [],
   "source": []
  },
  {
   "cell_type": "code",
   "execution_count": 125,
   "id": "2e270509",
   "metadata": {},
   "outputs": [
    {
     "name": "stdout",
     "output_type": "stream",
     "text": [
      "46.5\n",
      "2.5\n"
     ]
    }
   ],
   "source": [
    "q1 = df1[\"city-mpg\"].quantile(0.25)\n",
    "q3 = df1[\"city-mpg\"].quantile(0.75)\n",
    "\n",
    "IQR = q3 - q1\n",
    "\n",
    "upper_tail = q3 + 1.5 * IQR\n",
    "lower_tail = q1 - 1.5 * IQR\n",
    "\n",
    "print(upper_tail)\n",
    "print(lower_tail)"
   ]
  },
  {
   "cell_type": "code",
   "execution_count": 126,
   "id": "45b99c95",
   "metadata": {},
   "outputs": [
    {
     "data": {
      "text/plain": [
       "18    47\n",
       "30    49\n",
       "Name: city-mpg, dtype: int64"
      ]
     },
     "execution_count": 126,
     "metadata": {},
     "output_type": "execute_result"
    }
   ],
   "source": [
    "df1[\"city-mpg\"].loc[df1[\"city-mpg\"] > upper_tail] "
   ]
  },
  {
   "cell_type": "code",
   "execution_count": 127,
   "id": "39901e1d",
   "metadata": {},
   "outputs": [],
   "source": [
    "df1[\"city-mpg\"].loc[df1[\"city-mpg\"] > upper_tail]  = upper_tail"
   ]
  },
  {
   "cell_type": "code",
   "execution_count": 128,
   "id": "4e60c39a",
   "metadata": {},
   "outputs": [
    {
     "data": {
      "text/plain": [
       "Series([], Name: city-mpg, dtype: float64)"
      ]
     },
     "execution_count": 128,
     "metadata": {},
     "output_type": "execute_result"
    }
   ],
   "source": [
    "df1[\"city-mpg\"].loc[df1[\"city-mpg\"] > upper_tail] "
   ]
  },
  {
   "cell_type": "code",
   "execution_count": 129,
   "id": "55838e45",
   "metadata": {},
   "outputs": [
    {
     "data": {
      "text/plain": [
       "Series([], Name: city-mpg, dtype: float64)"
      ]
     },
     "execution_count": 129,
     "metadata": {},
     "output_type": "execute_result"
    }
   ],
   "source": [
    "df1[\"city-mpg\"].loc[df1[\"city-mpg\"] < lower_tail]"
   ]
  },
  {
   "cell_type": "code",
   "execution_count": null,
   "id": "8deb1206",
   "metadata": {},
   "outputs": [],
   "source": []
  },
  {
   "cell_type": "code",
   "execution_count": 130,
   "id": "6425e6c3",
   "metadata": {},
   "outputs": [
    {
     "name": "stdout",
     "output_type": "stream",
     "text": [
      "47.5\n",
      "11.5\n"
     ]
    }
   ],
   "source": [
    "q1 = df1[\"highway-mpg\"].quantile(0.25)\n",
    "q3 = df1[\"highway-mpg\"].quantile(0.75)\n",
    "\n",
    "IQR = q3 - q1\n",
    "\n",
    "upper_tail = q3 + 1.5 * IQR\n",
    "lower_tail = q1 - 1.5 * IQR\n",
    "\n",
    "print(upper_tail)\n",
    "print(lower_tail)"
   ]
  },
  {
   "cell_type": "code",
   "execution_count": 131,
   "id": "2ca55727",
   "metadata": {},
   "outputs": [
    {
     "data": {
      "text/plain": [
       "18    53\n",
       "30    54\n",
       "90    50\n",
       "Name: highway-mpg, dtype: int64"
      ]
     },
     "execution_count": 131,
     "metadata": {},
     "output_type": "execute_result"
    }
   ],
   "source": [
    "df1[\"highway-mpg\"].loc[df1[\"highway-mpg\"] > upper_tail] "
   ]
  },
  {
   "cell_type": "code",
   "execution_count": 132,
   "id": "8cc644a2",
   "metadata": {},
   "outputs": [],
   "source": [
    "df1[\"highway-mpg\"].loc[df1[\"highway-mpg\"] > upper_tail]  = upper_tail"
   ]
  },
  {
   "cell_type": "code",
   "execution_count": 133,
   "id": "01da2923",
   "metadata": {},
   "outputs": [
    {
     "data": {
      "text/plain": [
       "Series([], Name: highway-mpg, dtype: float64)"
      ]
     },
     "execution_count": 133,
     "metadata": {},
     "output_type": "execute_result"
    }
   ],
   "source": [
    "df1[\"highway-mpg\"].loc[df1[\"highway-mpg\"] > upper_tail] "
   ]
  },
  {
   "cell_type": "code",
   "execution_count": 134,
   "id": "d9f06c9b",
   "metadata": {},
   "outputs": [
    {
     "data": {
      "text/plain": [
       "Series([], Name: highway-mpg, dtype: float64)"
      ]
     },
     "execution_count": 134,
     "metadata": {},
     "output_type": "execute_result"
    }
   ],
   "source": [
    "df1[\"highway-mpg\"].loc[df1[\"highway-mpg\"] < lower_tail]"
   ]
  },
  {
   "cell_type": "code",
   "execution_count": null,
   "id": "255a349f",
   "metadata": {},
   "outputs": [],
   "source": []
  },
  {
   "cell_type": "code",
   "execution_count": 135,
   "id": "ee1c1599",
   "metadata": {},
   "outputs": [],
   "source": [
    "df2 = df1[\"price\"]\n",
    "df1.drop([\"price\"], axis = 1,inplace = True)\n",
    "df1 = pd.concat([ df1, df2], axis = 1)"
   ]
  },
  {
   "cell_type": "code",
   "execution_count": null,
   "id": "5448d675",
   "metadata": {},
   "outputs": [],
   "source": []
  },
  {
   "cell_type": "markdown",
   "id": "ff8456c9",
   "metadata": {},
   "source": [
    "# feature selection"
   ]
  },
  {
   "cell_type": "markdown",
   "id": "77207991",
   "metadata": {},
   "source": [
    "# assumptio\n",
    "# 1 linearity"
   ]
  },
  {
   "cell_type": "code",
   "execution_count": 136,
   "id": "8a352e42",
   "metadata": {},
   "outputs": [
    {
     "data": {
      "text/plain": [
       "<AxesSubplot:>"
      ]
     },
     "execution_count": 136,
     "metadata": {},
     "output_type": "execute_result"
    },
    {
     "data": {
      "image/png": "[encoded data removed]",
      "text/plain": [
       "<Figure size 5000x200 with 2 Axes>"
      ]
     },
     "metadata": {},
     "output_type": "display_data"
    }
   ],
   "source": [
    "plt.figure(figsize=(50,2))\n",
    "sns.heatmap(df1.corr().tail(1), annot=True)"
   ]
  },
  {
   "cell_type": "code",
   "execution_count": 137,
   "id": "7856bc1c",
   "metadata": {},
   "outputs": [],
   "source": [
    "x = df1.drop([\"price\"],axis =1)\n",
    "y = df1[\"price\"]"
   ]
  },
  {
   "cell_type": "markdown",
   "id": "a797003c",
   "metadata": {},
   "source": [
    "# 2 no multicolinearity"
   ]
  },
  {
   "cell_type": "code",
   "execution_count": 138,
   "id": "265d7a70",
   "metadata": {},
   "outputs": [],
   "source": [
    "from statsmodels.stats.outliers_influence import variance_inflation_factor"
   ]
  },
  {
   "cell_type": "code",
   "execution_count": 139,
   "id": "a289b9d7",
   "metadata": {},
   "outputs": [],
   "source": [
    "vif_list = []\n",
    "\n",
    "for i in range(x.shape[1]):\n",
    "    vif = variance_inflation_factor(x.to_numpy(),i)\n",
    "    vif_list.append(vif)\n",
    "    \n",
    "s = pd.Series(vif_list,index=x.columns)    "
   ]
  },
  {
   "cell_type": "code",
   "execution_count": 140,
   "id": "729dd14b",
   "metadata": {},
   "outputs": [
    {
     "data": {
      "text/plain": [
       "<AxesSubplot:>"
      ]
     },
     "execution_count": 140,
     "metadata": {},
     "output_type": "execute_result"
    },
    {
     "data": {
      "image/png": "[encoded data removed]",
      "text/plain": [
       "<Figure size 500x3000 with 1 Axes>"
      ]
     },
     "metadata": {},
     "output_type": "display_data"
    }
   ],
   "source": [
    "s.sort_values().plot(kind = \"barh\",figsize = (5,30))"
   ]
  },
  {
   "cell_type": "code",
   "execution_count": null,
   "id": "8d96a101",
   "metadata": {},
   "outputs": [],
   "source": []
  },
  {
   "cell_type": "markdown",
   "id": "b6e399c4",
   "metadata": {},
   "source": [
    "# model building"
   ]
  },
  {
   "cell_type": "code",
   "execution_count": 141,
   "id": "c893786e",
   "metadata": {},
   "outputs": [],
   "source": [
    "x_train , x_test , y_train , y_test = train_test_split(x,y,train_size=0.8,random_state=0)"
   ]
  },
  {
   "cell_type": "code",
   "execution_count": 142,
   "id": "7a900fbf",
   "metadata": {},
   "outputs": [
    {
     "data": {
      "text/plain": [
       "LinearRegression()"
      ]
     },
     "execution_count": 142,
     "metadata": {},
     "output_type": "execute_result"
    }
   ],
   "source": [
    "model = LinearRegression()\n",
    "model"
   ]
  },
  {
   "cell_type": "code",
   "execution_count": 143,
   "id": "a5e30370",
   "metadata": {},
   "outputs": [
    {
     "data": {
      "text/plain": [
       "LinearRegression()"
      ]
     },
     "execution_count": 143,
     "metadata": {},
     "output_type": "execute_result"
    }
   ],
   "source": [
    "model.fit(x_train,y_train)"
   ]
  },
  {
   "cell_type": "markdown",
   "id": "45760fbd",
   "metadata": {},
   "source": [
    "# model evolution"
   ]
  },
  {
   "cell_type": "code",
   "execution_count": 144,
   "id": "96023a97",
   "metadata": {},
   "outputs": [
    {
     "name": "stdout",
     "output_type": "stream",
     "text": [
      "Mean Sqaured Error : 2060995.511783911\n",
      "Root Mean Sqaured Error : 1435.6167705149974\n",
      "Mean Absolute Error : 1095.4217579165984\n",
      "R Squared Value : 0.9656252363139479\n",
      "Adjusted R Squared Value : 0.9439691351917351\n"
     ]
    }
   ],
   "source": [
    "# Model Evaluation for Training Data\n",
    "\n",
    "y_pred_train = model.predict(x_train)\n",
    "\n",
    "mse = mean_squared_error(y_train, y_pred_train)\n",
    "print(\"Mean Sqaured Error :\",mse)\n",
    "\n",
    "rmse = np.sqrt(mse)\n",
    "print(\"Root Mean Sqaured Error :\",rmse)\n",
    "\n",
    "mae = mean_absolute_error(y_train, y_pred_train)\n",
    "print(\"Mean Absolute Error :\",mae)\n",
    "\n",
    "r_squared_value = r2_score(y_train, y_pred_train)\n",
    "print(\"R Squared Value :\",r_squared_value)\n",
    "adj_r2  = 1 - (((1 - r_squared_value) * (x_train.shape[0] - 1)) / (x_train.shape[0] - x_train.shape[1] - 1))\n",
    "print(\"Adjusted R Squared Value :\",adj_r2)"
   ]
  },
  {
   "cell_type": "markdown",
   "id": "681e32de",
   "metadata": {},
   "source": [
    "# 3 normality of residual"
   ]
  },
  {
   "cell_type": "code",
   "execution_count": 145,
   "id": "9ea160e9",
   "metadata": {},
   "outputs": [],
   "source": [
    "residual = y_train - y_pred_train"
   ]
  },
  {
   "cell_type": "code",
   "execution_count": 146,
   "id": "4dc584f6",
   "metadata": {},
   "outputs": [
    {
     "data": {
      "text/plain": [
       "<AxesSubplot:xlabel='price', ylabel='Density'>"
      ]
     },
     "execution_count": 146,
     "metadata": {},
     "output_type": "execute_result"
    },
    {
     "data": {
      "image/png": "[encoded data removed]",
      "text/plain": [
       "<Figure size 640x480 with 1 Axes>"
      ]
     },
     "metadata": {},
     "output_type": "display_data"
    }
   ],
   "source": [
    "sns.kdeplot(residual)"
   ]
  },
  {
   "cell_type": "code",
   "execution_count": 147,
   "id": "6059e5b9",
   "metadata": {},
   "outputs": [
    {
     "data": {
      "text/plain": [
       "0.0006170079176904919"
      ]
     },
     "execution_count": 147,
     "metadata": {},
     "output_type": "execute_result"
    }
   ],
   "source": [
    "residual.skew()"
   ]
  },
  {
   "cell_type": "markdown",
   "id": "dbee6e57",
   "metadata": {},
   "source": [
    "# 4 homoscedasticity"
   ]
  },
  {
   "cell_type": "code",
   "execution_count": 148,
   "id": "7bbfb4cc",
   "metadata": {},
   "outputs": [
    {
     "data": {
      "text/plain": [
       "<AxesSubplot:xlabel='price', ylabel='price'>"
      ]
     },
     "execution_count": 148,
     "metadata": {},
     "output_type": "execute_result"
    },
    {
     "data": {
      "image/png": "[encoded data removed]",
      "text/plain": [
       "<Figure size 640x480 with 1 Axes>"
      ]
     },
     "metadata": {},
     "output_type": "display_data"
    }
   ],
   "source": [
    "sns.scatterplot(x = y_train,y=residual)"
   ]
  },
  {
   "cell_type": "markdown",
   "id": "b322b61a",
   "metadata": {},
   "source": [
    "## Model Evaluation for Testing Data"
   ]
  },
  {
   "cell_type": "code",
   "execution_count": 149,
   "id": "1a2239a5",
   "metadata": {},
   "outputs": [
    {
     "name": "stdout",
     "output_type": "stream",
     "text": [
      "Mean Sqaured Error : 25899651.562903948\n",
      "Root Mean Sqaured Error : 5089.170026920298\n",
      "Mean Absolute Error : 2681.369757096757\n",
      "R Squared Value : 0.6237003314016745\n",
      "Adjusted R Squared Value : 0.38663154018472934\n"
     ]
    }
   ],
   "source": [
    "\n",
    "y_pred = model.predict(x_test)\n",
    "\n",
    "mse = mean_squared_error(y_test, y_pred)\n",
    "print(\"Mean Sqaured Error :\",mse)\n",
    "\n",
    "rmse = np.sqrt(mse)\n",
    "print(\"Root Mean Sqaured Error :\",rmse)\n",
    "\n",
    "mae = mean_absolute_error(y_test, y_pred)\n",
    "print(\"Mean Absolute Error :\",mae)\n",
    "\n",
    "r_squared_value = r2_score(y_test, y_pred)\n",
    "print(\"R Squared Value :\",r_squared_value)\n",
    "adj_r2  = 1 - (((1 - r_squared_value) * (x_train.shape[0] - 1)) / (x_train.shape[0] - x_train.shape[1] - 1))\n",
    "print(\"Adjusted R Squared Value :\",adj_r2)"
   ]
  },
  {
   "cell_type": "markdown",
   "id": "5dd6169f",
   "metadata": {},
   "source": [
    "# overfiting"
   ]
  },
  {
   "cell_type": "markdown",
   "id": "a9bcf2db",
   "metadata": {},
   "source": [
    "# regularization\n",
    "# 1 Lasso (L1)"
   ]
  },
  {
   "cell_type": "code",
   "execution_count": 150,
   "id": "ec1b47b2",
   "metadata": {},
   "outputs": [],
   "source": [
    "from sklearn.linear_model import Lasso,Ridge\n",
    "from sklearn.model_selection import GridSearchCV, RandomizedSearchCV"
   ]
  },
  {
   "cell_type": "code",
   "execution_count": 151,
   "id": "021aa2ce",
   "metadata": {},
   "outputs": [
    {
     "name": "stdout",
     "output_type": "stream",
     "text": [
      "[16098.80820965 35244.16893045 13282.74075532 11854.81053353\n",
      "  7560.67048042]\n"
     ]
    },
    {
     "data": {
      "text/plain": [
       "4      17450.0\n",
       "71     34184.0\n",
       "134    15040.0\n",
       "145    11259.0\n",
       "122     7609.0\n",
       "Name: price, dtype: float64"
      ]
     },
     "execution_count": 151,
     "metadata": {},
     "output_type": "execute_result"
    }
   ],
   "source": [
    "L_model = Lasso()\n",
    "L_model.fit(x_train,y_train)\n",
    "y_pred_l = L_model.predict(x_train)\n",
    "print(y_pred_l[:5])\n",
    "y_train[:5]"
   ]
  },
  {
   "cell_type": "code",
   "execution_count": 152,
   "id": "3461ad7e",
   "metadata": {},
   "outputs": [
    {
     "data": {
      "text/plain": [
       "0.9655378833355257"
      ]
     },
     "execution_count": 152,
     "metadata": {},
     "output_type": "execute_result"
    }
   ],
   "source": [
    "r2 = r2_score(y_train,y_pred_l)\n",
    "r2"
   ]
  },
  {
   "cell_type": "markdown",
   "id": "980b9536",
   "metadata": {},
   "source": [
    "## hyper parameter tunning\n",
    "## 1 Grid search"
   ]
  },
  {
   "cell_type": "code",
   "execution_count": 153,
   "id": "7c628941",
   "metadata": {},
   "outputs": [
    {
     "data": {
      "text/plain": [
       "Lasso(alpha=2.9899999999999998)"
      ]
     },
     "execution_count": 153,
     "metadata": {},
     "output_type": "execute_result"
    }
   ],
   "source": [
    "param_grid ={\"alpha\": np.arange(0.01,3,0.01)}\n",
    "grid = GridSearchCV(L_model,param_grid,n_jobs=-1)\n",
    "grid.fit(x_train,y_train)\n",
    "grid.best_estimator_"
   ]
  },
  {
   "cell_type": "code",
   "execution_count": 154,
   "id": "d59e51c4",
   "metadata": {},
   "outputs": [
    {
     "data": {
      "text/plain": [
       "Lasso(alpha=2.9899999999999998)"
      ]
     },
     "execution_count": 154,
     "metadata": {},
     "output_type": "execute_result"
    }
   ],
   "source": [
    "L_model = grid.best_estimator_\n",
    "L_model.fit(x_train,y_train)"
   ]
  },
  {
   "cell_type": "code",
   "execution_count": 155,
   "id": "fbca0318",
   "metadata": {},
   "outputs": [
    {
     "data": {
      "text/plain": [
       "0.9655378833355257"
      ]
     },
     "execution_count": 155,
     "metadata": {},
     "output_type": "execute_result"
    }
   ],
   "source": [
    "# trainning data\n",
    "r2 = r2_score(y_train, y_pred_l)\n",
    "r2"
   ]
  },
  {
   "cell_type": "code",
   "execution_count": 156,
   "id": "fcc767ae",
   "metadata": {},
   "outputs": [
    {
     "data": {
      "text/plain": [
       "0.7484790849547551"
      ]
     },
     "execution_count": 156,
     "metadata": {},
     "output_type": "execute_result"
    }
   ],
   "source": [
    "## testing data\n",
    "y_pred = L_model.predict(x_test)\n",
    "r2 = r2_score(y_test, y_pred)\n",
    "r2"
   ]
  },
  {
   "cell_type": "markdown",
   "id": "1d3f0c22",
   "metadata": {},
   "source": [
    "# 2 Ridge"
   ]
  },
  {
   "cell_type": "code",
   "execution_count": 157,
   "id": "165b4216",
   "metadata": {},
   "outputs": [],
   "source": [
    "# R_model = Ridge()\n",
    "# R_model.fit(x_train,y_train)\n",
    "# y_pred_r = R_model.predict(x_train)\n",
    "# print(y_pred_r[:5])\n",
    "# y_train[:5]"
   ]
  },
  {
   "cell_type": "code",
   "execution_count": 158,
   "id": "1584e721",
   "metadata": {},
   "outputs": [],
   "source": [
    "# r2 = r2_score(y_train,y_pred_r)\n",
    "# r2"
   ]
  },
  {
   "cell_type": "markdown",
   "id": "d7a70a15",
   "metadata": {},
   "source": [
    "## 1 Grid search"
   ]
  },
  {
   "cell_type": "code",
   "execution_count": 159,
   "id": "c289256f",
   "metadata": {},
   "outputs": [],
   "source": [
    "# param_grid ={\"alpha\": np.arange(0.01,3,0.01)}\n",
    "# grid = GridSearchCV(R_model,param_grid,n_jobs=-1)\n",
    "# grid.fit(x_train,y_train)\n",
    "# grid.best_estimator_"
   ]
  },
  {
   "cell_type": "code",
   "execution_count": 160,
   "id": "cd34b657",
   "metadata": {},
   "outputs": [],
   "source": [
    "# L_model = grid.best_estimator_\n",
    "# L_model.fit(x_train,y_train)"
   ]
  },
  {
   "cell_type": "code",
   "execution_count": 161,
   "id": "419c8722",
   "metadata": {},
   "outputs": [],
   "source": [
    "# # trainning data\n",
    "# r2 = r2_score(y_train, y_pred_r)\n",
    "# r2"
   ]
  },
  {
   "cell_type": "code",
   "execution_count": 162,
   "id": "468223d7",
   "metadata": {},
   "outputs": [],
   "source": [
    "# ## testing data\n",
    "# y_pred = L_model.predict(x_test)\n",
    "# r2 = r2_score(y_test, y_pred)\n",
    "# r2"
   ]
  },
  {
   "cell_type": "code",
   "execution_count": null,
   "id": "30eecb38",
   "metadata": {},
   "outputs": [],
   "source": []
  },
  {
   "cell_type": "code",
   "execution_count": 163,
   "id": "66638189",
   "metadata": {},
   "outputs": [
    {
     "data": {
      "text/html": [
       "<div>\n",
       "<style scoped>\n",
       "    .dataframe tbody tr th:only-of-type {\n",
       "        vertical-align: middle;\n",
       "    }\n",
       "\n",
       "    .dataframe tbody tr th {\n",
       "        vertical-align: top;\n",
       "    }\n",
       "\n",
       "    .dataframe thead th {\n",
       "        text-align: right;\n",
       "    }\n",
       "</style>\n",
       "<table border=\"1\" class=\"dataframe\">\n",
       "  <thead>\n",
       "    <tr style=\"text-align: right;\">\n",
       "      <th></th>\n",
       "      <th>0</th>\n",
       "    </tr>\n",
       "  </thead>\n",
       "  <tbody>\n",
       "    <tr>\n",
       "      <th>symboling</th>\n",
       "      <td>3.0</td>\n",
       "    </tr>\n",
       "    <tr>\n",
       "      <th>normalized-losses</th>\n",
       "      <td>115.0</td>\n",
       "    </tr>\n",
       "    <tr>\n",
       "      <th>fuel-type</th>\n",
       "      <td>0.0</td>\n",
       "    </tr>\n",
       "    <tr>\n",
       "      <th>aspiration</th>\n",
       "      <td>0.0</td>\n",
       "    </tr>\n",
       "    <tr>\n",
       "      <th>num-of-doors</th>\n",
       "      <td>1.0</td>\n",
       "    </tr>\n",
       "    <tr>\n",
       "      <th>...</th>\n",
       "      <td>...</td>\n",
       "    </tr>\n",
       "    <tr>\n",
       "      <th>fuel-system_idi</th>\n",
       "      <td>0.0</td>\n",
       "    </tr>\n",
       "    <tr>\n",
       "      <th>fuel-system_mfi</th>\n",
       "      <td>0.0</td>\n",
       "    </tr>\n",
       "    <tr>\n",
       "      <th>fuel-system_mpfi</th>\n",
       "      <td>1.0</td>\n",
       "    </tr>\n",
       "    <tr>\n",
       "      <th>fuel-system_spdi</th>\n",
       "      <td>0.0</td>\n",
       "    </tr>\n",
       "    <tr>\n",
       "      <th>fuel-system_spfi</th>\n",
       "      <td>0.0</td>\n",
       "    </tr>\n",
       "  </tbody>\n",
       "</table>\n",
       "<p>63 rows × 1 columns</p>\n",
       "</div>"
      ],
      "text/plain": [
       "                       0\n",
       "symboling            3.0\n",
       "normalized-losses  115.0\n",
       "fuel-type            0.0\n",
       "aspiration           0.0\n",
       "num-of-doors         1.0\n",
       "...                  ...\n",
       "fuel-system_idi      0.0\n",
       "fuel-system_mfi      0.0\n",
       "fuel-system_mpfi     1.0\n",
       "fuel-system_spdi     0.0\n",
       "fuel-system_spfi     0.0\n",
       "\n",
       "[63 rows x 1 columns]"
      ]
     },
     "execution_count": 163,
     "metadata": {},
     "output_type": "execute_result"
    }
   ],
   "source": [
    "x.head(1).T"
   ]
  },
  {
   "cell_type": "code",
   "execution_count": 176,
   "id": "f6c4e05f",
   "metadata": {},
   "outputs": [],
   "source": [
    "column_names = x.columns\n"
   ]
  },
  {
   "cell_type": "code",
   "execution_count": 165,
   "id": "c251b181",
   "metadata": {},
   "outputs": [],
   "source": [
    "import pickle\n",
    "import json"
   ]
  },
  {
   "cell_type": "code",
   "execution_count": 166,
   "id": "b26fc4b2",
   "metadata": {},
   "outputs": [],
   "source": [
    "with open(\"Linear model.pkl\", \"wb\") as f:\n",
    "    pickle.dump(model, f)"
   ]
  },
  {
   "cell_type": "code",
   "execution_count": 167,
   "id": "0b327a53",
   "metadata": {},
   "outputs": [],
   "source": [
    "json_data = {'fuel-type':{'gas': 0, 'diesel': 1},\n",
    "             'aspiration':{'std': 0, 'turbo': 1},\n",
    "              'num-of-doors' :{'four': 0, 'two': 1},\n",
    "              'drive-wheels':{'fwd': 0, 'rwd': 1, '4wd': 2},\n",
    "               'engine-location':{'front': 0, 'rear': 1},\n",
    "               \"num_of_cylinders\": {'four': 4,'six': 6,'five': 5,'eight': 8,'two': 2,'three': 3,'twelve': 12},\n",
    "              \"columns\":list(column_names)}\n",
    "# json_data"
   ]
  },
  {
   "cell_type": "code",
   "execution_count": 168,
   "id": "c6d3b0cc",
   "metadata": {},
   "outputs": [],
   "source": [
    "with open(\"Project_data.json\", \"w\") as f:\n",
    "    json.dump(json_data, f)"
   ]
  },
  {
   "cell_type": "code",
   "execution_count": 169,
   "id": "02fdad0e",
   "metadata": {},
   "outputs": [
    {
     "data": {
      "text/plain": [
       "{'fuel-type': {'gas': 0, 'diesel': 1},\n",
       " 'aspiration': {'std': 0, 'turbo': 1},\n",
       " 'num-of-doors': {'four': 0, 'two': 1},\n",
       " 'drive-wheels': {'fwd': 0, 'rwd': 1, '4wd': 2},\n",
       " 'engine-location': {'front': 0, 'rear': 1},\n",
       " 'num_of_cylinders': {'four': 4,\n",
       "  'six': 6,\n",
       "  'five': 5,\n",
       "  'eight': 8,\n",
       "  'two': 2,\n",
       "  'three': 3,\n",
       "  'twelve': 12},\n",
       " 'columns': ['symboling',\n",
       "  'normalized-losses',\n",
       "  'fuel-type',\n",
       "  'aspiration',\n",
       "  'num-of-doors',\n",
       "  'drive-wheels',\n",
       "  'engine-location',\n",
       "  'wheel-base',\n",
       "  'length',\n",
       "  'width',\n",
       "  'height',\n",
       "  'curb-weight',\n",
       "  'num-of-cylinders',\n",
       "  'engine-size',\n",
       "  'bore',\n",
       "  'stroke',\n",
       "  'compression-ratio',\n",
       "  'horsepower',\n",
       "  'peak-rpm',\n",
       "  'city-mpg',\n",
       "  'highway-mpg',\n",
       "  'make_alfa-romero',\n",
       "  'make_audi',\n",
       "  'make_bmw',\n",
       "  'make_chevrolet',\n",
       "  'make_dodge',\n",
       "  'make_honda',\n",
       "  'make_isuzu',\n",
       "  'make_jaguar',\n",
       "  'make_mazda',\n",
       "  'make_mercedes-benz',\n",
       "  'make_mercury',\n",
       "  'make_mitsubishi',\n",
       "  'make_nissan',\n",
       "  'make_peugot',\n",
       "  'make_plymouth',\n",
       "  'make_porsche',\n",
       "  'make_renault',\n",
       "  'make_saab',\n",
       "  'make_subaru',\n",
       "  'make_toyota',\n",
       "  'make_volkswagen',\n",
       "  'make_volvo',\n",
       "  'body-style_convertible',\n",
       "  'body-style_hardtop',\n",
       "  'body-style_hatchback',\n",
       "  'body-style_sedan',\n",
       "  'body-style_wagon',\n",
       "  'engine-type_dohc',\n",
       "  'engine-type_dohcv',\n",
       "  'engine-type_l',\n",
       "  'engine-type_ohc',\n",
       "  'engine-type_ohcf',\n",
       "  'engine-type_ohcv',\n",
       "  'engine-type_rotor',\n",
       "  'fuel-system_1bbl',\n",
       "  'fuel-system_2bbl',\n",
       "  'fuel-system_4bbl',\n",
       "  'fuel-system_idi',\n",
       "  'fuel-system_mfi',\n",
       "  'fuel-system_mpfi',\n",
       "  'fuel-system_spdi',\n",
       "  'fuel-system_spfi']}"
      ]
     },
     "execution_count": 169,
     "metadata": {},
     "output_type": "execute_result"
    }
   ],
   "source": [
    "json_data"
   ]
  },
  {
   "cell_type": "markdown",
   "id": "40a533ca",
   "metadata": {},
   "source": [
    "# single user input testing"
   ]
  },
  {
   "cell_type": "code",
   "execution_count": 170,
   "id": "41382ccf",
   "metadata": {},
   "outputs": [],
   "source": [
    "symboling = 3.0 \n",
    "normalized_losses = 115.0\n",
    "fuel_type = \"gas\" \n",
    "aspiration = 'turbo'\n",
    "num_of_doors = 'four'\n",
    "drive_wheels = 'rwd'\n",
    "engine_location = 'front'\n",
    "wheel_base = 109.1\n",
    "length = 188.8\n",
    "width = 68.9\n",
    "height = 55.5\n",
    "curb_weight = 2952\n",
    "num_of_cylinders = \"five\"\n",
    "engine_size = 173\n",
    "bore = 3.19\n",
    "stroke = 2.87\n",
    "compression_ratio = 10.6\n",
    "horsepower = 3750\n",
    "peak_rpm = 5500\n",
    "city_mpg = 26.0\n",
    "highway_mpg = 30.0 \n",
    "\n",
    "\n",
    "make = \"volkswagen\"\n",
    "make = \"make_\" + make\n",
    "\n",
    "body_style = \"hatchback\"\n",
    "body_style = \"body-style_\" + body_style\n",
    "\n",
    "engine_type = \"ohc\"\n",
    "engine_type = \"engine-type_\" + engine_type\n",
    "\n",
    "\n",
    "fuel_system = \"spdi\"\n",
    "fuel_system = \"fuel-system_\" + fuel_system"
   ]
  },
  {
   "cell_type": "code",
   "execution_count": 171,
   "id": "f55ef1ab",
   "metadata": {},
   "outputs": [
    {
     "name": "stdout",
     "output_type": "stream",
     "text": [
      "41\n",
      "45\n",
      "51\n",
      "61\n"
     ]
    }
   ],
   "source": [
    "make_index = list(column_names).index(make)\n",
    "body_style_index = list(column_names).index(body_style)\n",
    "engine_type_index = list(column_names).index(engine_type)\n",
    "fuel_system_index = list(column_names).index(fuel_system)\n",
    "\n",
    "\n",
    "print(make_index)\n",
    "print(body_style_index)\n",
    "print(engine_type_index)\n",
    "print(fuel_system_index)\n"
   ]
  },
  {
   "cell_type": "code",
   "execution_count": 172,
   "id": "ff5c4108",
   "metadata": {},
   "outputs": [
    {
     "data": {
      "text/plain": [
       "['symboling',\n",
       " 'normalized-losses',\n",
       " 'fuel-type',\n",
       " 'aspiration',\n",
       " 'num-of-doors',\n",
       " 'drive-wheels',\n",
       " 'engine-location',\n",
       " 'wheel-base',\n",
       " 'length',\n",
       " 'width',\n",
       " 'height',\n",
       " 'curb-weight',\n",
       " 'num-of-cylinders',\n",
       " 'engine-size',\n",
       " 'bore',\n",
       " 'stroke',\n",
       " 'compression-ratio',\n",
       " 'horsepower',\n",
       " 'peak-rpm',\n",
       " 'city-mpg',\n",
       " 'highway-mpg',\n",
       " 'make_alfa-romero',\n",
       " 'make_audi',\n",
       " 'make_bmw',\n",
       " 'make_chevrolet',\n",
       " 'make_dodge',\n",
       " 'make_honda',\n",
       " 'make_isuzu',\n",
       " 'make_jaguar',\n",
       " 'make_mazda',\n",
       " 'make_mercedes-benz',\n",
       " 'make_mercury',\n",
       " 'make_mitsubishi',\n",
       " 'make_nissan',\n",
       " 'make_peugot',\n",
       " 'make_plymouth',\n",
       " 'make_porsche',\n",
       " 'make_renault',\n",
       " 'make_saab',\n",
       " 'make_subaru',\n",
       " 'make_toyota',\n",
       " 'make_volkswagen',\n",
       " 'make_volvo',\n",
       " 'body-style_convertible',\n",
       " 'body-style_hardtop',\n",
       " 'body-style_hatchback',\n",
       " 'body-style_sedan',\n",
       " 'body-style_wagon',\n",
       " 'engine-type_dohc',\n",
       " 'engine-type_dohcv',\n",
       " 'engine-type_l',\n",
       " 'engine-type_ohc',\n",
       " 'engine-type_ohcf',\n",
       " 'engine-type_ohcv',\n",
       " 'engine-type_rotor',\n",
       " 'fuel-system_1bbl',\n",
       " 'fuel-system_2bbl',\n",
       " 'fuel-system_4bbl',\n",
       " 'fuel-system_idi',\n",
       " 'fuel-system_mfi',\n",
       " 'fuel-system_mpfi',\n",
       " 'fuel-system_spdi',\n",
       " 'fuel-system_spfi']"
      ]
     },
     "execution_count": 172,
     "metadata": {},
     "output_type": "execute_result"
    }
   ],
   "source": [
    "json_data['columns']"
   ]
  },
  {
   "cell_type": "code",
   "execution_count": 173,
   "id": "c1e6d0b6",
   "metadata": {},
   "outputs": [
    {
     "data": {
      "text/plain": [
       "array([   3,  115,    0,    1,    0,    1,    0,  109,  188,   68,   55,\n",
       "       2952,    5,  173,    3,    2,   10, 3750, 5500,   26,   30,    0,\n",
       "          0,    0,    0,    0,    0,    0,    0,    0,    0,    0,    0,\n",
       "          0,    0,    0,    0,    0,    0,    0,    0,    1,    0,    0,\n",
       "          0,    1,    0,    0,    0,    0,    0,    1,    0,    0,    0,\n",
       "          0,    0,    0,    0,    0,    0,    1,    0])"
      ]
     },
     "execution_count": 173,
     "metadata": {},
     "output_type": "execute_result"
    }
   ],
   "source": [
    "array = np.zeros(len(column_names), dtype = int)\n",
    "array\n",
    "\n",
    "array[0] = symboling\n",
    "array[1] = normalized_losses\n",
    "array[2] = json_data['fuel-type'][fuel_type]\n",
    "array[3] = json_data['aspiration'][aspiration]\n",
    "array[4] = json_data['num-of-doors'][num_of_doors]\n",
    "array[5] = json_data['drive-wheels'][drive_wheels]\n",
    "array[6] = json_data['engine-location'][engine_location]\n",
    "array[7] = wheel_base\n",
    "array[8] = length\n",
    "array[9] = width\n",
    "array[10] = height\n",
    "array[11] = curb_weight\n",
    "array[12] = json_data['num_of_cylinders'][num_of_cylinders]\n",
    "array[13] = engine_size\n",
    "array[14] = bore\n",
    "array[15] = stroke\n",
    "array[16] = compression_ratio\n",
    "array[17] = horsepower\n",
    "array[18] = peak_rpm\n",
    "array[19] = city_mpg\n",
    "array[20] = highway_mpg\n",
    "\n",
    "array[make_index] = 1\n",
    "array[body_style_index] = 1\n",
    "array[engine_type_index] = 1\n",
    "\n",
    "array[fuel_system_index] = 1\n",
    "array"
   ]
  },
  {
   "cell_type": "code",
   "execution_count": 174,
   "id": "b2718944",
   "metadata": {},
   "outputs": [
    {
     "name": "stdout",
     "output_type": "stream",
     "text": [
      "Predicted car Price is : $ 20841.68\n"
     ]
    }
   ],
   "source": [
    "price = model.predict([array])[0]  # 2D array\n",
    "print(\"Predicted car Price is : $\", round(price, 2))"
   ]
  },
  {
   "cell_type": "code",
   "execution_count": null,
   "id": "b78995a5",
   "metadata": {},
   "outputs": [],
   "source": []
  },
  {
   "cell_type": "code",
   "execution_count": null,
   "id": "cae2f4cd",
   "metadata": {},
   "outputs": [],
   "source": []
  },
  {
   "cell_type": "code",
   "execution_count": null,
   "id": "dbef6b12",
   "metadata": {},
   "outputs": [],
   "source": []
  },
  {
   "cell_type": "code",
   "execution_count": null,
   "id": "43b49bdc",
   "metadata": {},
   "outputs": [],
   "source": []
  },
  {
   "cell_type": "code",
   "execution_count": null,
   "id": "70e056aa",
   "metadata": {},
   "outputs": [],
   "source": []
  },
  {
   "cell_type": "code",
   "execution_count": null,
   "id": "9393e02c",
   "metadata": {},
   "outputs": [],
   "source": []
  },
  {
   "cell_type": "code",
   "execution_count": null,
   "id": "dd8d0610",
   "metadata": {},
   "outputs": [],
   "source": []
  }
 ],
 "metadata": {
  "kernelspec": {
   "display_name": "Python 3 (ipykernel)",
   "language": "python",
   "name": "python3"
  },
  "language_info": {
   "codemirror_mode": {
    "name": "ipython",
    "version": 3
   },
   "file_extension": ".py",
   "mimetype": "text/x-python",
   "name": "python",
   "nbconvert_exporter": "python",
   "pygments_lexer": "ipython3",
   "version": "3.9.13"
  }
 },
 "nbformat": 4,
 "nbformat_minor": 5
}
